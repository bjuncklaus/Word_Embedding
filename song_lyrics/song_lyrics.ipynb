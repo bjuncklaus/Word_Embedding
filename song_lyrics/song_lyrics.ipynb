{
 "cells": [
  {
   "cell_type": "markdown",
   "metadata": {},
   "source": [
    "## Source\n",
    "https://www.azlyrics.com/m/mayer.html"
   ]
  },
  {
   "cell_type": "code",
   "execution_count": 78,
   "metadata": {
    "collapsed": true
   },
   "outputs": [],
   "source": [
    "from __future__ import absolute_import, division, print_function"
   ]
  },
  {
   "cell_type": "code",
   "execution_count": 79,
   "metadata": {
    "collapsed": true
   },
   "outputs": [],
   "source": [
    "import codecs\n",
    "import glob\n",
    "import logging\n",
    "import multiprocessing\n",
    "import os\n",
    "import pprint\n",
    "import re"
   ]
  },
  {
   "cell_type": "code",
   "execution_count": 80,
   "metadata": {
    "collapsed": true
   },
   "outputs": [],
   "source": [
    "import nltk\n",
    "import gensim.models.word2vec as w2v\n",
    "import sklearn.manifold\n",
    "import numpy as np\n",
    "import matplotlib.pyplot as plt\n",
    "import pandas as pd\n",
    "import seaborn as sns"
   ]
  },
  {
   "cell_type": "code",
   "execution_count": 81,
   "metadata": {},
   "outputs": [
    {
     "name": "stdout",
     "output_type": "stream",
     "text": [
      "Populating the interactive namespace from numpy and matplotlib\n"
     ]
    },
    {
     "name": "stderr",
     "output_type": "stream",
     "text": [
      "/home/bmartins/workspace/virtualenv_python3.5/lib/python3.5/site-packages/IPython/core/magics/pylab.py:160: UserWarning: pylab import has clobbered these variables: ['seed']\n",
      "`%matplotlib` prevents importing * from pylab and numpy\n",
      "  \"\\n`%matplotlib` prevents importing * from pylab and numpy\"\n"
     ]
    }
   ],
   "source": [
    "%pylab inline"
   ]
  },
  {
   "cell_type": "markdown",
   "metadata": {},
   "source": [
    "**Set up logging**"
   ]
  },
  {
   "cell_type": "code",
   "execution_count": 82,
   "metadata": {
    "collapsed": true
   },
   "outputs": [],
   "source": [
    "logging.basicConfig(format='%(asctime)s : %(levelname)s : %(message)s', level=logging.INFO)"
   ]
  },
  {
   "cell_type": "markdown",
   "metadata": {
    "collapsed": true
   },
   "source": [
    "**Download NLTK tokenizer models (only the first time)**"
   ]
  },
  {
   "cell_type": "code",
   "execution_count": 83,
   "metadata": {},
   "outputs": [
    {
     "name": "stdout",
     "output_type": "stream",
     "text": [
      "[nltk_data] Downloading package punkt to /home/bmartins/nltk_data...\n",
      "[nltk_data]   Package punkt is already up-to-date!\n",
      "[nltk_data] Downloading package stopwords to\n",
      "[nltk_data]     /home/bmartins/nltk_data...\n",
      "[nltk_data]   Package stopwords is already up-to-date!\n"
     ]
    },
    {
     "data": {
      "text/plain": [
       "True"
      ]
     },
     "execution_count": 83,
     "metadata": {},
     "output_type": "execute_result"
    }
   ],
   "source": [
    "nltk.download(\"punkt\")\n",
    "nltk.download(\"stopwords\")"
   ]
  },
  {
   "cell_type": "markdown",
   "metadata": {},
   "source": [
    "## Prepare Corpus"
   ]
  },
  {
   "cell_type": "code",
   "execution_count": 84,
   "metadata": {
    "collapsed": true
   },
   "outputs": [],
   "source": [
    "lyrics_filenames = sorted(glob.glob(\"data/*.txt\"))"
   ]
  },
  {
   "cell_type": "code",
   "execution_count": 85,
   "metadata": {},
   "outputs": [
    {
     "name": "stdout",
     "output_type": "stream",
     "text": [
      "Found lyrics:\n"
     ]
    },
    {
     "data": {
      "text/plain": [
       "['data/3x5.txt',\n",
       " 'data/83.txt',\n",
       " 'data/a_break_in_the_clouds.txt',\n",
       " 'data/a_face_to_call_home.txt',\n",
       " 'data/all_we_ever_do_is_say_goodbye.txt',\n",
       " 'data/another_kind_of_green.txt',\n",
       " 'data/assassin.txt',\n",
       " 'data/back_to_you.txt',\n",
       " 'data/badge_and_gun.txt',\n",
       " 'data/belief.txt',\n",
       " 'data/bigger_than_my_body.txt',\n",
       " 'data/bold_as_love.txt',\n",
       " 'data/born_and_raised.txt',\n",
       " 'data/call_me_the_breeze.txt',\n",
       " 'data/changing.txt',\n",
       " 'data/city_love.txt',\n",
       " 'data/clarity.txt',\n",
       " 'data/come_back_to_bed.txt',\n",
       " 'data/comfortable.txt',\n",
       " 'data/covered_in_rain.txt',\n",
       " 'data/crossroads.txt',\n",
       " 'data/daughters.txt',\n",
       " 'data/dear_marie.txt',\n",
       " 'data/do_you_know_me.txt',\n",
       " 'data/dreaming_with_a_broken_heart.txt',\n",
       " 'data/edge_of_desire.txt',\n",
       " 'data/emoji_of_a_wave.txt',\n",
       " 'data/everyday_i_have_the_blues.txt',\n",
       " 'data/everything_youll_ever_be.txt',\n",
       " 'data/fool_to_love_you.txt',\n",
       " 'data/friends_lovers_or_nothing.txt',\n",
       " 'data/go_easy_on_me.txt',\n",
       " 'data/good_love_is_on_the_way.txt',\n",
       " 'data/gravity.txt',\n",
       " 'data/great_indoors.txt',\n",
       " 'data/half_of_my_heart.txt',\n",
       " 'data/heartbreak_warfare.txt',\n",
       " 'data/helpless.txt',\n",
       " 'data/home_life.txt',\n",
       " 'data/i_dont_need_no_doctor.txt',\n",
       " 'data/i_dont_trust_myself.txt',\n",
       " 'data/i_got_a_woman.txt',\n",
       " 'data/i_will_be_found.txt',\n",
       " 'data/if_i_ever_get_around_to_living.txt',\n",
       " 'data/im_gonna_find_another_you.txt',\n",
       " 'data/in_repair.txt',\n",
       " 'data/in_the_blood.txt',\n",
       " 'data/in_your_atmosphere.txt',\n",
       " 'data/love_is_a_verb.txt',\n",
       " 'data/love_on_the_weekend.txt',\n",
       " 'data/love_song_for_no_one.txt',\n",
       " 'data/love_soon.txt',\n",
       " 'data/man_on_the_side.txt',\n",
       " 'data/midnight.txt',\n",
       " 'data/moving_on_and_getting_over.txt',\n",
       " 'data/my_stupid_mouth.txt',\n",
       " 'data/neon.txt',\n",
       " 'data/never_on_the_day_you_leave.txt',\n",
       " 'data/new_deep.txt',\n",
       " 'data/no_such_thing.txt',\n",
       " 'data/not_myself.txt',\n",
       " 'data/on_the_way_home.txt',\n",
       " 'data/only_heart.txt',\n",
       " 'data/out_of_my_mind.txt',\n",
       " 'data/paper_doll.txt',\n",
       " 'data/perfectly_lonely.txt',\n",
       " 'data/queen_of_california.txt',\n",
       " 'data/roll_it_on_home.txt',\n",
       " 'data/rosie.txt',\n",
       " 'data/say.txt',\n",
       " 'data/shadow_days.txt',\n",
       " 'data/slow_dancing_in_a_burning_room.txt',\n",
       " 'data/something_like_olivia.txt',\n",
       " 'data/somethings_missing.txt',\n",
       " 'data/speak_for_me.txt',\n",
       " 'data/split_screen_sadness.txt',\n",
       " 'data/st_patricks_day.txt',\n",
       " 'data/still_feel_like_your_man.txt',\n",
       " 'data/stop_this_train.txt',\n",
       " 'data/sucker.txt',\n",
       " 'data/the_age_of_worry.txt',\n",
       " 'data/the_heart_of_life.txt',\n",
       " 'data/tracing.txt',\n",
       " 'data/try.txt',\n",
       " 'data/victoria.txt',\n",
       " 'data/vultures.txt',\n",
       " 'data/wait_until_tomorrow.txt',\n",
       " 'data/waiting_on_the_day.txt',\n",
       " 'data/waiting_on_the_world_to_change.txt',\n",
       " 'data/walt_graces_submarine_test_january_1967.txt',\n",
       " 'data/war_of_my_life.txt',\n",
       " 'data/wheel.txt',\n",
       " 'data/whisky_whisky_whisky.txt',\n",
       " 'data/who_did_you_thin_i_was.txt',\n",
       " 'data/who_says.txt',\n",
       " 'data/who_you_love.txt',\n",
       " 'data/why_georgia.txt',\n",
       " 'data/wildfire.txt',\n",
       " 'data/your_body_is_a_wonderland.txt',\n",
       " 'data/youre_gonna_live_forever_in_me.txt',\n",
       " 'data/youre_no_one_till_someone_lets_you_down.txt']"
      ]
     },
     "execution_count": 85,
     "metadata": {},
     "output_type": "execute_result"
    }
   ],
   "source": [
    "print(\"Found lyrics:\")\n",
    "lyrics_filenames"
   ]
  },
  {
   "cell_type": "markdown",
   "metadata": {},
   "source": [
    "**Combine the lyrics into one string**"
   ]
  },
  {
   "cell_type": "code",
   "execution_count": 86,
   "metadata": {},
   "outputs": [
    {
     "name": "stdout",
     "output_type": "stream",
     "text": [
      "Reading 'data/3x5.txt'...\n",
      "Corpus is now 1153 characters long\n",
      "\n",
      "Reading 'data/83.txt'...\n",
      "Corpus is now 2667 characters long\n",
      "\n",
      "Reading 'data/a_break_in_the_clouds.txt'...\n",
      "Corpus is now 4257 characters long\n",
      "\n",
      "Reading 'data/a_face_to_call_home.txt'...\n",
      "Corpus is now 5734 characters long\n",
      "\n",
      "Reading 'data/all_we_ever_do_is_say_goodbye.txt'...\n",
      "Corpus is now 6667 characters long\n",
      "\n",
      "Reading 'data/another_kind_of_green.txt'...\n",
      "Corpus is now 7875 characters long\n",
      "\n",
      "Reading 'data/assassin.txt'...\n",
      "Corpus is now 9423 characters long\n",
      "\n",
      "Reading 'data/back_to_you.txt'...\n",
      "Corpus is now 10225 characters long\n",
      "\n",
      "Reading 'data/badge_and_gun.txt'...\n",
      "Corpus is now 11316 characters long\n",
      "\n",
      "Reading 'data/belief.txt'...\n",
      "Corpus is now 12516 characters long\n",
      "\n",
      "Reading 'data/bigger_than_my_body.txt'...\n",
      "Corpus is now 13801 characters long\n",
      "\n",
      "Reading 'data/bold_as_love.txt'...\n",
      "Corpus is now 14716 characters long\n",
      "\n",
      "Reading 'data/born_and_raised.txt'...\n",
      "Corpus is now 15674 characters long\n",
      "\n",
      "Reading 'data/call_me_the_breeze.txt'...\n",
      "Corpus is now 16182 characters long\n",
      "\n",
      "Reading 'data/changing.txt'...\n",
      "Corpus is now 17236 characters long\n",
      "\n",
      "Reading 'data/city_love.txt'...\n",
      "Corpus is now 18301 characters long\n",
      "\n",
      "Reading 'data/clarity.txt'...\n",
      "Corpus is now 19411 characters long\n",
      "\n",
      "Reading 'data/come_back_to_bed.txt'...\n",
      "Corpus is now 20713 characters long\n",
      "\n",
      "Reading 'data/comfortable.txt'...\n",
      "Corpus is now 21812 characters long\n",
      "\n",
      "Reading 'data/covered_in_rain.txt'...\n",
      "Corpus is now 23092 characters long\n",
      "\n",
      "Reading 'data/crossroads.txt'...\n",
      "Corpus is now 23589 characters long\n",
      "\n",
      "Reading 'data/daughters.txt'...\n",
      "Corpus is now 24759 characters long\n",
      "\n",
      "Reading 'data/dear_marie.txt'...\n",
      "Corpus is now 25584 characters long\n",
      "\n",
      "Reading 'data/do_you_know_me.txt'...\n",
      "Corpus is now 25982 characters long\n",
      "\n",
      "Reading 'data/dreaming_with_a_broken_heart.txt'...\n",
      "Corpus is now 26943 characters long\n",
      "\n",
      "Reading 'data/edge_of_desire.txt'...\n",
      "Corpus is now 28120 characters long\n",
      "\n",
      "Reading 'data/emoji_of_a_wave.txt'...\n",
      "Corpus is now 29146 characters long\n",
      "\n",
      "Reading 'data/everyday_i_have_the_blues.txt'...\n",
      "Corpus is now 29615 characters long\n",
      "\n",
      "Reading 'data/everything_youll_ever_be.txt'...\n",
      "Corpus is now 30672 characters long\n",
      "\n",
      "Reading 'data/fool_to_love_you.txt'...\n",
      "Corpus is now 31514 characters long\n",
      "\n",
      "Reading 'data/friends_lovers_or_nothing.txt'...\n",
      "Corpus is now 32482 characters long\n",
      "\n",
      "Reading 'data/go_easy_on_me.txt'...\n",
      "Corpus is now 33352 characters long\n",
      "\n",
      "Reading 'data/good_love_is_on_the_way.txt'...\n",
      "Corpus is now 34266 characters long\n",
      "\n",
      "Reading 'data/gravity.txt'...\n",
      "Corpus is now 34995 characters long\n",
      "\n",
      "Reading 'data/great_indoors.txt'...\n",
      "Corpus is now 35956 characters long\n",
      "\n",
      "Reading 'data/half_of_my_heart.txt'...\n",
      "Corpus is now 37453 characters long\n",
      "\n",
      "Reading 'data/heartbreak_warfare.txt'...\n",
      "Corpus is now 38791 characters long\n",
      "\n",
      "Reading 'data/helpless.txt'...\n",
      "Corpus is now 39750 characters long\n",
      "\n",
      "Reading 'data/home_life.txt'...\n",
      "Corpus is now 41112 characters long\n",
      "\n",
      "Reading 'data/i_dont_need_no_doctor.txt'...\n",
      "Corpus is now 42010 characters long\n",
      "\n",
      "Reading 'data/i_dont_trust_myself.txt'...\n",
      "Corpus is now 43189 characters long\n",
      "\n",
      "Reading 'data/i_got_a_woman.txt'...\n",
      "Corpus is now 44333 characters long\n",
      "\n",
      "Reading 'data/i_will_be_found.txt'...\n",
      "Corpus is now 45473 characters long\n",
      "\n",
      "Reading 'data/if_i_ever_get_around_to_living.txt'...\n",
      "Corpus is now 46505 characters long\n",
      "\n",
      "Reading 'data/im_gonna_find_another_you.txt'...\n",
      "Corpus is now 47212 characters long\n",
      "\n",
      "Reading 'data/in_repair.txt'...\n",
      "Corpus is now 48497 characters long\n",
      "\n",
      "Reading 'data/in_the_blood.txt'...\n",
      "Corpus is now 49837 characters long\n",
      "\n",
      "Reading 'data/in_your_atmosphere.txt'...\n",
      "Corpus is now 51445 characters long\n",
      "\n",
      "Reading 'data/love_is_a_verb.txt'...\n",
      "Corpus is now 52126 characters long\n",
      "\n",
      "Reading 'data/love_on_the_weekend.txt'...\n",
      "Corpus is now 53338 characters long\n",
      "\n",
      "Reading 'data/love_song_for_no_one.txt'...\n",
      "Corpus is now 54226 characters long\n",
      "\n",
      "Reading 'data/love_soon.txt'...\n",
      "Corpus is now 55672 characters long\n",
      "\n",
      "Reading 'data/man_on_the_side.txt'...\n",
      "Corpus is now 57027 characters long\n",
      "\n",
      "Reading 'data/midnight.txt'...\n",
      "Corpus is now 57608 characters long\n",
      "\n",
      "Reading 'data/moving_on_and_getting_over.txt'...\n",
      "Corpus is now 58823 characters long\n",
      "\n",
      "Reading 'data/my_stupid_mouth.txt'...\n",
      "Corpus is now 60239 characters long\n",
      "\n",
      "Reading 'data/neon.txt'...\n",
      "Corpus is now 61242 characters long\n",
      "\n",
      "Reading 'data/never_on_the_day_you_leave.txt'...\n",
      "Corpus is now 62471 characters long\n",
      "\n",
      "Reading 'data/new_deep.txt'...\n",
      "Corpus is now 63834 characters long\n",
      "\n",
      "Reading 'data/no_such_thing.txt'...\n",
      "Corpus is now 65347 characters long\n",
      "\n",
      "Reading 'data/not_myself.txt'...\n",
      "Corpus is now 65787 characters long\n",
      "\n",
      "Reading 'data/on_the_way_home.txt'...\n",
      "Corpus is now 67134 characters long\n",
      "\n",
      "Reading 'data/only_heart.txt'...\n",
      "Corpus is now 68041 characters long\n",
      "\n",
      "Reading 'data/out_of_my_mind.txt'...\n",
      "Corpus is now 68732 characters long\n",
      "\n",
      "Reading 'data/paper_doll.txt'...\n",
      "Corpus is now 69686 characters long\n",
      "\n",
      "Reading 'data/perfectly_lonely.txt'...\n",
      "Corpus is now 70899 characters long\n",
      "\n",
      "Reading 'data/queen_of_california.txt'...\n",
      "Corpus is now 71667 characters long\n",
      "\n",
      "Reading 'data/roll_it_on_home.txt'...\n",
      "Corpus is now 72971 characters long\n",
      "\n",
      "Reading 'data/rosie.txt'...\n",
      "Corpus is now 73796 characters long\n",
      "\n",
      "Reading 'data/say.txt'...\n",
      "Corpus is now 74491 characters long\n",
      "\n",
      "Reading 'data/shadow_days.txt'...\n",
      "Corpus is now 75489 characters long\n",
      "\n",
      "Reading 'data/slow_dancing_in_a_burning_room.txt'...\n",
      "Corpus is now 77051 characters long\n",
      "\n",
      "Reading 'data/something_like_olivia.txt'...\n",
      "Corpus is now 77933 characters long\n",
      "\n",
      "Reading 'data/somethings_missing.txt'...\n",
      "Corpus is now 79384 characters long\n",
      "\n",
      "Reading 'data/speak_for_me.txt'...\n",
      "Corpus is now 80479 characters long\n",
      "\n",
      "Reading 'data/split_screen_sadness.txt'...\n",
      "Corpus is now 82479 characters long\n",
      "\n",
      "Reading 'data/st_patricks_day.txt'...\n",
      "Corpus is now 83857 characters long\n",
      "\n",
      "Reading 'data/still_feel_like_your_man.txt'...\n",
      "Corpus is now 84936 characters long\n",
      "\n",
      "Reading 'data/stop_this_train.txt'...\n",
      "Corpus is now 86308 characters long\n",
      "\n",
      "Reading 'data/sucker.txt'...\n",
      "Corpus is now 87630 characters long\n",
      "\n",
      "Reading 'data/the_age_of_worry.txt'...\n",
      "Corpus is now 88497 characters long\n",
      "\n",
      "Reading 'data/the_heart_of_life.txt'...\n",
      "Corpus is now 89213 characters long\n",
      "\n",
      "Reading 'data/tracing.txt'...\n",
      "Corpus is now 90339 characters long\n",
      "\n",
      "Reading 'data/try.txt'...\n",
      "Corpus is now 91496 characters long\n",
      "\n",
      "Reading 'data/victoria.txt'...\n",
      "Corpus is now 92436 characters long\n",
      "\n",
      "Reading 'data/vultures.txt'...\n",
      "Corpus is now 93793 characters long\n",
      "\n",
      "Reading 'data/wait_until_tomorrow.txt'...\n",
      "Corpus is now 95123 characters long\n",
      "\n",
      "Reading 'data/waiting_on_the_day.txt'...\n",
      "Corpus is now 96086 characters long\n",
      "\n",
      "Reading 'data/waiting_on_the_world_to_change.txt'...\n",
      "Corpus is now 97365 characters long\n",
      "\n",
      "Reading 'data/walt_graces_submarine_test_january_1967.txt'...\n",
      "Corpus is now 98808 characters long\n",
      "\n",
      "Reading 'data/war_of_my_life.txt'...\n",
      "Corpus is now 99904 characters long\n",
      "\n",
      "Reading 'data/wheel.txt'...\n",
      "Corpus is now 101317 characters long\n",
      "\n",
      "Reading 'data/whisky_whisky_whisky.txt'...\n",
      "Corpus is now 102645 characters long\n",
      "\n",
      "Reading 'data/who_did_you_thin_i_was.txt'...\n",
      "Corpus is now 103383 characters long\n",
      "\n",
      "Reading 'data/who_says.txt'...\n",
      "Corpus is now 104492 characters long\n",
      "\n",
      "Reading 'data/who_you_love.txt'...\n",
      "Corpus is now 105770 characters long\n",
      "\n",
      "Reading 'data/why_georgia.txt'...\n",
      "Corpus is now 106944 characters long\n",
      "\n",
      "Reading 'data/wildfire.txt'...\n",
      "Corpus is now 108014 characters long\n",
      "\n",
      "Reading 'data/your_body_is_a_wonderland.txt'...\n",
      "Corpus is now 109323 characters long\n",
      "\n",
      "Reading 'data/youre_gonna_live_forever_in_me.txt'...\n",
      "Corpus is now 109998 characters long\n",
      "\n",
      "Reading 'data/youre_no_one_till_someone_lets_you_down.txt'...\n",
      "Corpus is now 111131 characters long\n",
      "\n"
     ]
    }
   ],
   "source": [
    "corpus_raw = u\"\"\n",
    "for lyric_filename in lyrics_filenames:\n",
    "    print(\"Reading '{0}'...\".format(lyric_filename))\n",
    "    with codecs.open(lyric_filename, \"r\", \"utf-8\") as lyric_file:\n",
    "        corpus_raw += lyric_file.read()\n",
    "    print(\"Corpus is now {0} characters long\".format(len(corpus_raw)))\n",
    "    print()"
   ]
  },
  {
   "cell_type": "markdown",
   "metadata": {},
   "source": [
    "**Split the corpus into sentences**"
   ]
  },
  {
   "cell_type": "code",
   "execution_count": 87,
   "metadata": {
    "collapsed": true
   },
   "outputs": [],
   "source": [
    "tokenizer = nltk.data.load('tokenizers/punkt/english.pickle')"
   ]
  },
  {
   "cell_type": "code",
   "execution_count": 88,
   "metadata": {
    "collapsed": true
   },
   "outputs": [],
   "source": [
    "raw_sentences = tokenizer.tokenize(corpus_raw)"
   ]
  },
  {
   "cell_type": "code",
   "execution_count": 89,
   "metadata": {
    "collapsed": true
   },
   "outputs": [],
   "source": [
    "#convert into a list of words\n",
    "#rtemove unnnecessary,, split into words, no hyphens\n",
    "#list of words\n",
    "def sentence_to_wordlist(raw):\n",
    "    clean = re.sub(\"[^a-zA-Z]\",\" \", raw)\n",
    "    words = clean.split()\n",
    "    return words"
   ]
  },
  {
   "cell_type": "code",
   "execution_count": 90,
   "metadata": {
    "collapsed": true
   },
   "outputs": [],
   "source": [
    "#sentence where each word is tokenized\n",
    "sentences = []\n",
    "for raw_sentence in raw_sentences:\n",
    "    if len(raw_sentence) > 0:\n",
    "        sentences.append(sentence_to_wordlist(raw_sentence))"
   ]
  },
  {
   "cell_type": "code",
   "execution_count": 91,
   "metadata": {},
   "outputs": [
    {
     "name": "stdout",
     "output_type": "stream",
     "text": [
      "It's the same she's been standing in\r\n",
      "Since the day she saw him walking away\r\n",
      "Now she's left\r\n",
      "Cleaning up the mess he made\r\n",
      "\r\n",
      "So fathers, be good to your daughters\r\n",
      "Daughters will love like you do\r\n",
      "Girls become lovers who turn into mothers\r\n",
      "So mothers, be good to your daughters too\r\n",
      "\r\n",
      "Boys, you can break\r\n",
      "You find out how much they can take\r\n",
      "Boys will be strong\r\n",
      "And boys soldier on\r\n",
      "But boys would be gone without the warmth from\r\n",
      "A woman's good, good heart\r\n",
      "\r\n",
      "On behalf of every man\r\n",
      "Looking out for every girl\r\n",
      "You are the god and the weight of her world\r\n",
      "\r\n",
      "So fathers, be good to your daughters\r\n",
      "Daughters will love like you do\r\n",
      "Girls become lovers who turn into mothers\r\n",
      "So mothers, be good to your daughters too\r\n",
      "Dear Marie,\r\n",
      "Tell me what it was I used to be?\n",
      "['It', 's', 'the', 'same', 'she', 's', 'been', 'standing', 'in', 'Since', 'the', 'day', 'she', 'saw', 'him', 'walking', 'away', 'Now', 'she', 's', 'left', 'Cleaning', 'up', 'the', 'mess', 'he', 'made', 'So', 'fathers', 'be', 'good', 'to', 'your', 'daughters', 'Daughters', 'will', 'love', 'like', 'you', 'do', 'Girls', 'become', 'lovers', 'who', 'turn', 'into', 'mothers', 'So', 'mothers', 'be', 'good', 'to', 'your', 'daughters', 'too', 'Boys', 'you', 'can', 'break', 'You', 'find', 'out', 'how', 'much', 'they', 'can', 'take', 'Boys', 'will', 'be', 'strong', 'And', 'boys', 'soldier', 'on', 'But', 'boys', 'would', 'be', 'gone', 'without', 'the', 'warmth', 'from', 'A', 'woman', 's', 'good', 'good', 'heart', 'On', 'behalf', 'of', 'every', 'man', 'Looking', 'out', 'for', 'every', 'girl', 'You', 'are', 'the', 'god', 'and', 'the', 'weight', 'of', 'her', 'world', 'So', 'fathers', 'be', 'good', 'to', 'your', 'daughters', 'Daughters', 'will', 'love', 'like', 'you', 'do', 'Girls', 'become', 'lovers', 'who', 'turn', 'into', 'mothers', 'So', 'mothers', 'be', 'good', 'to', 'your', 'daughters', 'too', 'Dear', 'Marie', 'Tell', 'me', 'what', 'it', 'was', 'I', 'used', 'to', 'be']\n"
     ]
    }
   ],
   "source": [
    "print(raw_sentences[15])\n",
    "print(sentence_to_wordlist(raw_sentences[15]))"
   ]
  },
  {
   "cell_type": "code",
   "execution_count": 92,
   "metadata": {},
   "outputs": [
    {
     "name": "stdout",
     "output_type": "stream",
     "text": [
      "The lyrics corpus contains 23,218 tokens\n"
     ]
    }
   ],
   "source": [
    "token_count = sum([len(sentence) for sentence in sentences])\n",
    "print(\"The lyrics corpus contains {0:,} tokens\".format(token_count))"
   ]
  },
  {
   "cell_type": "markdown",
   "metadata": {},
   "source": [
    "## Train Word2Vec"
   ]
  },
  {
   "cell_type": "code",
   "execution_count": 93,
   "metadata": {
    "collapsed": true
   },
   "outputs": [],
   "source": [
    "#ONCE we have vectors\n",
    "#step 3 - build model\n",
    "#3 main tasks that vectors help with\n",
    "#DISTANCE, SIMILARITY, RANKING\n",
    "\n",
    "# Dimensionality of the resulting word vectors.\n",
    "#more dimensions, more computationally expensive to train\n",
    "#but also more accurate\n",
    "#more dimensions = more generalized\n",
    "num_features = 300\n",
    "# Minimum word count threshold.\n",
    "min_word_count = 3\n",
    "\n",
    "# Number of threads to run in parallel.\n",
    "#more workers, faster we train\n",
    "num_workers = multiprocessing.cpu_count()\n",
    "\n",
    "# Context window length.\n",
    "context_size = 7\n",
    "\n",
    "# Downsample setting for frequent words.\n",
    "#0 - 1e-5 is good for this\n",
    "downsampling = 1e-3\n",
    "\n",
    "# Seed for the RNG, to make the results reproducible.\n",
    "#random number generator\n",
    "#deterministic, good for debugging\n",
    "seed = 1"
   ]
  },
  {
   "cell_type": "code",
   "execution_count": 94,
   "metadata": {
    "collapsed": true
   },
   "outputs": [],
   "source": [
    "w2vec = w2v.Word2Vec(\n",
    "    sg=1,\n",
    "    seed=seed,\n",
    "    workers=num_workers,\n",
    "    size=num_features,\n",
    "    min_count=min_word_count,\n",
    "    window=context_size,\n",
    "    sample=downsampling\n",
    ")"
   ]
  },
  {
   "cell_type": "code",
   "execution_count": 95,
   "metadata": {},
   "outputs": [
    {
     "name": "stderr",
     "output_type": "stream",
     "text": [
      "2017-11-24 08:41:34,144 : INFO : collecting all words and their counts\n",
      "2017-11-24 08:41:34,146 : INFO : PROGRESS: at sentence #0, processed 0 words, keeping 0 word types\n",
      "2017-11-24 08:41:34,150 : INFO : collected 2280 word types from a corpus of 23218 raw words and 255 sentences\n",
      "2017-11-24 08:41:34,155 : INFO : min_count=3 retains 966 unique words (drops 1314)\n",
      "2017-11-24 08:41:34,156 : INFO : min_count leaves 21603 word corpus (93% of original 23218)\n",
      "2017-11-24 08:41:34,160 : INFO : deleting the raw counts dictionary of 2280 items\n",
      "2017-11-24 08:41:34,161 : INFO : sample=0.001 downsamples 75 most-common words\n",
      "2017-11-24 08:41:34,162 : INFO : downsampling leaves estimated 14767 word corpus (68.4% of prior 21603)\n",
      "2017-11-24 08:41:34,162 : INFO : estimated required memory for 966 words and 300 dimensions: 2801400 bytes\n",
      "2017-11-24 08:41:34,166 : INFO : resetting layer weights\n"
     ]
    }
   ],
   "source": [
    "w2vec.build_vocab(sentences)"
   ]
  },
  {
   "cell_type": "code",
   "execution_count": 96,
   "metadata": {
    "scrolled": true
   },
   "outputs": [
    {
     "name": "stdout",
     "output_type": "stream",
     "text": [
      "Word2Vec vocabulary length: 966\n"
     ]
    }
   ],
   "source": [
    "print(\"Word2Vec vocabulary length:\", len(w2vec.vocab))"
   ]
  },
  {
   "cell_type": "markdown",
   "metadata": {},
   "source": [
    "**Start training, this might take a minute or two...**"
   ]
  },
  {
   "cell_type": "code",
   "execution_count": 97,
   "metadata": {},
   "outputs": [
    {
     "name": "stderr",
     "output_type": "stream",
     "text": [
      "2017-11-24 08:41:34,196 : INFO : training model with 8 workers on 966 vocabulary and 300 features, using sg=1 hs=0 sample=0.001 negative=5\n",
      "2017-11-24 08:41:34,197 : INFO : expecting 255 sentences, matching count from corpus used for vocabulary survey\n",
      "2017-11-24 08:41:34,335 : INFO : worker thread finished; awaiting finish of 7 more threads\n",
      "2017-11-24 08:41:34,336 : INFO : worker thread finished; awaiting finish of 6 more threads\n",
      "2017-11-24 08:41:34,341 : INFO : worker thread finished; awaiting finish of 5 more threads\n",
      "2017-11-24 08:41:34,345 : INFO : worker thread finished; awaiting finish of 4 more threads\n",
      "2017-11-24 08:41:34,377 : INFO : worker thread finished; awaiting finish of 3 more threads\n",
      "2017-11-24 08:41:34,388 : INFO : worker thread finished; awaiting finish of 2 more threads\n",
      "2017-11-24 08:41:34,404 : INFO : worker thread finished; awaiting finish of 1 more threads\n",
      "2017-11-24 08:41:34,405 : INFO : worker thread finished; awaiting finish of 0 more threads\n",
      "2017-11-24 08:41:34,405 : INFO : training on 116090 raw words (73672 effective words) took 0.2s, 361289 effective words/s\n",
      "2017-11-24 08:41:34,406 : WARNING : under 10 jobs per worker: consider setting a smaller `batch_words' for smoother alpha decay\n"
     ]
    },
    {
     "data": {
      "text/plain": [
       "73672"
      ]
     },
     "execution_count": 97,
     "metadata": {},
     "output_type": "execute_result"
    }
   ],
   "source": [
    "w2vec.train(sentences)"
   ]
  },
  {
   "cell_type": "markdown",
   "metadata": {},
   "source": [
    "**Save to file, can be useful later**"
   ]
  },
  {
   "cell_type": "code",
   "execution_count": 98,
   "metadata": {
    "collapsed": true
   },
   "outputs": [],
   "source": [
    "if not os.path.exists(\"trained\"):\n",
    "    os.makedirs(\"trained\")"
   ]
  },
  {
   "cell_type": "code",
   "execution_count": 99,
   "metadata": {},
   "outputs": [
    {
     "name": "stderr",
     "output_type": "stream",
     "text": [
      "2017-11-24 08:41:34,427 : INFO : saving Word2Vec object under trained/lyrics2vec.w2v, separately None\n",
      "2017-11-24 08:41:34,429 : INFO : not storing attribute cum_table\n",
      "2017-11-24 08:41:34,430 : INFO : not storing attribute syn0norm\n"
     ]
    }
   ],
   "source": [
    "w2vec.save(os.path.join(\"trained\", \"lyrics2vec.w2v\"))"
   ]
  },
  {
   "cell_type": "markdown",
   "metadata": {},
   "source": [
    "## Explore the trained model."
   ]
  },
  {
   "cell_type": "code",
   "execution_count": 100,
   "metadata": {},
   "outputs": [
    {
     "name": "stderr",
     "output_type": "stream",
     "text": [
      "2017-11-24 08:41:34,454 : INFO : loading Word2Vec object from trained/lyrics2vec.w2v\n",
      "2017-11-24 08:41:34,471 : INFO : setting ignored attribute cum_table to None\n",
      "2017-11-24 08:41:34,472 : INFO : setting ignored attribute syn0norm to None\n"
     ]
    }
   ],
   "source": [
    "w2vec = w2v.Word2Vec.load(os.path.join(\"trained\", \"lyrics2vec.w2v\"))"
   ]
  },
  {
   "cell_type": "markdown",
   "metadata": {},
   "source": [
    "### Compress the word vectors into 2D space and plot them"
   ]
  },
  {
   "cell_type": "code",
   "execution_count": 101,
   "metadata": {
    "collapsed": true
   },
   "outputs": [],
   "source": [
    "#my video - how to visualize a dataset easily\n",
    "tsne = sklearn.manifold.TSNE(n_components=2, random_state=0)"
   ]
  },
  {
   "cell_type": "code",
   "execution_count": 102,
   "metadata": {
    "collapsed": true
   },
   "outputs": [],
   "source": [
    "all_word_vectors_matrix = w2vec.syn0"
   ]
  },
  {
   "cell_type": "markdown",
   "metadata": {},
   "source": [
    "**Train t-SNE, this could take a minute or two...**"
   ]
  },
  {
   "cell_type": "code",
   "execution_count": 103,
   "metadata": {
    "collapsed": true
   },
   "outputs": [],
   "source": [
    "all_word_vectors_matrix_2d = tsne.fit_transform(all_word_vectors_matrix)"
   ]
  },
  {
   "cell_type": "markdown",
   "metadata": {},
   "source": [
    "**Plot the big picture**"
   ]
  },
  {
   "cell_type": "code",
   "execution_count": 104,
   "metadata": {
    "collapsed": true
   },
   "outputs": [],
   "source": [
    "points = pd.DataFrame(\n",
    "    [\n",
    "        (word, coords[0], coords[1])\n",
    "        for word, coords in [\n",
    "            (word, all_word_vectors_matrix_2d[w2vec.vocab[word].index])\n",
    "            for word in w2vec.vocab\n",
    "        ]\n",
    "    ],\n",
    "    columns=[\"word\", \"x\", \"y\"]\n",
    ")"
   ]
  },
  {
   "cell_type": "code",
   "execution_count": 105,
   "metadata": {},
   "outputs": [
    {
     "data": {
      "text/html": [
       "<div>\n",
       "<style>\n",
       "    .dataframe thead tr:only-child th {\n",
       "        text-align: right;\n",
       "    }\n",
       "\n",
       "    .dataframe thead th {\n",
       "        text-align: left;\n",
       "    }\n",
       "\n",
       "    .dataframe tbody tr th {\n",
       "        vertical-align: top;\n",
       "    }\n",
       "</style>\n",
       "<table border=\"1\" class=\"dataframe\">\n",
       "  <thead>\n",
       "    <tr style=\"text-align: right;\">\n",
       "      <th></th>\n",
       "      <th>word</th>\n",
       "      <th>x</th>\n",
       "      <th>y</th>\n",
       "    </tr>\n",
       "  </thead>\n",
       "  <tbody>\n",
       "    <tr>\n",
       "      <th>0</th>\n",
       "      <td>says</td>\n",
       "      <td>-3.812027</td>\n",
       "      <td>-21.814618</td>\n",
       "    </tr>\n",
       "    <tr>\n",
       "      <th>1</th>\n",
       "      <td>happened</td>\n",
       "      <td>0.269097</td>\n",
       "      <td>17.084843</td>\n",
       "    </tr>\n",
       "    <tr>\n",
       "      <th>2</th>\n",
       "      <td>Two</td>\n",
       "      <td>1.766016</td>\n",
       "      <td>-13.757073</td>\n",
       "    </tr>\n",
       "    <tr>\n",
       "      <th>3</th>\n",
       "      <td>own</td>\n",
       "      <td>1.437139</td>\n",
       "      <td>-28.585949</td>\n",
       "    </tr>\n",
       "    <tr>\n",
       "      <th>4</th>\n",
       "      <td>right</td>\n",
       "      <td>-6.680349</td>\n",
       "      <td>-9.385667</td>\n",
       "    </tr>\n",
       "    <tr>\n",
       "      <th>5</th>\n",
       "      <td>Hard</td>\n",
       "      <td>-8.528490</td>\n",
       "      <td>13.193792</td>\n",
       "    </tr>\n",
       "    <tr>\n",
       "      <th>6</th>\n",
       "      <td>wheel</td>\n",
       "      <td>0.938047</td>\n",
       "      <td>-18.217091</td>\n",
       "    </tr>\n",
       "    <tr>\n",
       "      <th>7</th>\n",
       "      <td>stand</td>\n",
       "      <td>9.347710</td>\n",
       "      <td>7.280560</td>\n",
       "    </tr>\n",
       "    <tr>\n",
       "      <th>8</th>\n",
       "      <td>herself</td>\n",
       "      <td>-11.870348</td>\n",
       "      <td>7.699460</td>\n",
       "    </tr>\n",
       "    <tr>\n",
       "      <th>9</th>\n",
       "      <td>Sleep</td>\n",
       "      <td>10.039737</td>\n",
       "      <td>19.549850</td>\n",
       "    </tr>\n",
       "  </tbody>\n",
       "</table>\n",
       "</div>"
      ],
      "text/plain": [
       "       word          x          y\n",
       "0      says  -3.812027 -21.814618\n",
       "1  happened   0.269097  17.084843\n",
       "2       Two   1.766016 -13.757073\n",
       "3       own   1.437139 -28.585949\n",
       "4     right  -6.680349  -9.385667\n",
       "5      Hard  -8.528490  13.193792\n",
       "6     wheel   0.938047 -18.217091\n",
       "7     stand   9.347710   7.280560\n",
       "8   herself -11.870348   7.699460\n",
       "9     Sleep  10.039737  19.549850"
      ]
     },
     "execution_count": 105,
     "metadata": {},
     "output_type": "execute_result"
    }
   ],
   "source": [
    "points.head(10)"
   ]
  },
  {
   "cell_type": "code",
   "execution_count": 106,
   "metadata": {
    "collapsed": true
   },
   "outputs": [],
   "source": [
    "sns.set_context(\"poster\")"
   ]
  },
  {
   "cell_type": "code",
   "execution_count": 107,
   "metadata": {},
   "outputs": [
    {
     "data": {
      "text/plain": [
       "<matplotlib.axes._subplots.AxesSubplot at 0x7fa864280940>"
      ]
     },
     "execution_count": 107,
     "metadata": {},
     "output_type": "execute_result"
    },
    {
     "data": {
      "image/png": "[encoded data removed]",
      "text/plain": [
       "<matplotlib.figure.Figure at 0x7fa864248978>"
      ]
     },
     "metadata": {},
     "output_type": "display_data"
    }
   ],
   "source": [
    "points.plot.scatter(\"x\", \"y\", s=10, figsize=(20, 12))"
   ]
  },
  {
   "cell_type": "markdown",
   "metadata": {
    "collapsed": true
   },
   "source": [
    "**Zoom in to some interesting places**"
   ]
  },
  {
   "cell_type": "code",
   "execution_count": 108,
   "metadata": {
    "collapsed": true
   },
   "outputs": [],
   "source": [
    "def plot_region(x_bounds, y_bounds):\n",
    "    slice = points[\n",
    "        (x_bounds[0] <= points.x) &\n",
    "        (points.x <= x_bounds[1]) & \n",
    "        (y_bounds[0] <= points.y) &\n",
    "        (points.y <= y_bounds[1])\n",
    "    ]\n",
    "    \n",
    "    ax = slice.plot.scatter(\"x\", \"y\", s=35, figsize=(10, 8))\n",
    "    for i, point in slice.iterrows():\n",
    "        ax.text(point.x + 0.005, point.y + 0.005, point.word, fontsize=11)"
   ]
  },
  {
   "cell_type": "markdown",
   "metadata": {},
   "source": [
    "**People related to Kingsguard ended up together**"
   ]
  },
  {
   "cell_type": "code",
   "execution_count": 109,
   "metadata": {},
   "outputs": [
    {
     "data": {
      "image/png": "[encoded data removed]",
      "text/plain": [
       "<matplotlib.figure.Figure at 0x7fa8642616a0>"
      ]
     },
     "metadata": {},
     "output_type": "display_data"
    }
   ],
   "source": [
    "plot_region(x_bounds=(-20, -10), y_bounds=(-5.3, 5))"
   ]
  },
  {
   "cell_type": "markdown",
   "metadata": {},
   "source": [
    "**Food products are grouped nicely as well. Aerys (The Mad King) being close to \"roasted\" also looks sadly correct**"
   ]
  },
  {
   "cell_type": "code",
   "execution_count": 110,
   "metadata": {},
   "outputs": [
    {
     "data": {
      "image/png": "[encoded data removed]",
      "text/plain": [
       "<matplotlib.figure.Figure at 0x7fa8644c9668>"
      ]
     },
     "metadata": {},
     "output_type": "display_data"
    }
   ],
   "source": [
    "plot_region(x_bounds=(0, 10), y_bounds=(-10, -5))"
   ]
  },
  {
   "cell_type": "markdown",
   "metadata": {},
   "source": [
    "### Explore semantic similarities between lyrics"
   ]
  },
  {
   "cell_type": "markdown",
   "metadata": {},
   "source": [
    "**Words closest to the given word**"
   ]
  },
  {
   "cell_type": "code",
   "execution_count": 111,
   "metadata": {},
   "outputs": [
    {
     "name": "stderr",
     "output_type": "stream",
     "text": [
      "2017-11-24 08:41:39,363 : INFO : precomputing L2-norms of word weight vectors\n"
     ]
    },
    {
     "data": {
      "text/plain": [
       "[('throw', 0.999792218208313),\n",
       " ('lines', 0.9997827410697937),\n",
       " ('numbers', 0.999781608581543),\n",
       " ('leaving', 0.9997715950012207),\n",
       " ('Finish', 0.999770998954773),\n",
       " ('Trying', 0.9997696280479431),\n",
       " ('sometimes', 0.999768078327179),\n",
       " ('maybe', 0.9997661113739014),\n",
       " ('photograph', 0.9997660517692566),\n",
       " ('Our', 0.9997633695602417)]"
      ]
     },
     "execution_count": 111,
     "metadata": {},
     "output_type": "execute_result"
    }
   ],
   "source": [
    "w2vec.most_similar(\"gravity\")"
   ]
  },
  {
   "cell_type": "code",
   "execution_count": 112,
   "metadata": {},
   "outputs": [
    {
     "data": {
      "text/plain": [
       "[('scared', 0.9997243285179138),\n",
       " ('set', 0.9996827840805054),\n",
       " ('okay', 0.9996781349182129),\n",
       " ('train', 0.9996492862701416),\n",
       " ('mad', 0.9996298551559448),\n",
       " ('easy', 0.9996278285980225),\n",
       " ('trying', 0.9996153116226196),\n",
       " ('swear', 0.999596357345581),\n",
       " ('said', 0.9995938539505005),\n",
       " ('mean', 0.9995778203010559)]"
      ]
     },
     "execution_count": 112,
     "metadata": {},
     "output_type": "execute_result"
    }
   ],
   "source": [
    "w2vec.most_similar(\"fire\")"
   ]
  },
  {
   "cell_type": "code",
   "execution_count": 113,
   "metadata": {},
   "outputs": [
    {
     "data": {
      "text/plain": [
       "[('who', 0.9964717626571655),\n",
       " ('Who', 0.9960875511169434),\n",
       " ('you', 0.9824830293655396),\n",
       " ('hold', 0.9717382192611694),\n",
       " ('want', 0.9689950346946716),\n",
       " ('can', 0.9671263098716736),\n",
       " ('head', 0.9665601849555969),\n",
       " ('dreaming', 0.9659461379051208),\n",
       " ('make', 0.9652764797210693),\n",
       " ('Oh', 0.9646962881088257)]"
      ]
     },
     "execution_count": 113,
     "metadata": {},
     "output_type": "execute_result"
    }
   ],
   "source": [
    "w2vec.most_similar(\"love\")"
   ]
  },
  {
   "cell_type": "markdown",
   "metadata": {},
   "source": [
    "**Linear relationships between word pairs**"
   ]
  },
  {
   "cell_type": "code",
   "execution_count": 114,
   "metadata": {
    "collapsed": true
   },
   "outputs": [],
   "source": [
    "def nearest_similarity_cosmul(start1, end1, end2):\n",
    "    similarities = w2vec.most_similar_cosmul(\n",
    "        positive=[end2, start1],\n",
    "        negative=[end1]\n",
    "    )\n",
    "    start2 = similarities[0][0]\n",
    "    print(\"{start1} is related to {end1}, as {start2} is related to {end2}\".format(**locals()))\n",
    "    return start2"
   ]
  },
  {
   "cell_type": "code",
   "execution_count": 115,
   "metadata": {},
   "outputs": [
    {
     "name": "stdout",
     "output_type": "stream",
     "text": [
      "gravity is related to dreams, as Lydia is related to city\n",
      "love is related to can, as half is related to heart\n",
      "fire is related to train, as oh is related to woman\n"
     ]
    },
    {
     "data": {
      "text/plain": [
       "'oh'"
      ]
     },
     "execution_count": 115,
     "metadata": {},
     "output_type": "execute_result"
    }
   ],
   "source": [
    "nearest_similarity_cosmul(\"gravity\", \"dreams\", \"city\")\n",
    "nearest_similarity_cosmul(\"love\", \"can\", \"heart\")\n",
    "nearest_similarity_cosmul(\"fire\", \"train\", \"woman\")"
   ]
  }
 ],
 "metadata": {
  "kernelspec": {
   "display_name": "Python 3",
   "language": "python",
   "name": "python3"
  },
  "language_info": {
   "codemirror_mode": {
    "name": "ipython",
    "version": 3
   },
   "file_extension": ".py",
   "mimetype": "text/x-python",
   "name": "python",
   "nbconvert_exporter": "python",
   "pygments_lexer": "ipython3",
   "version": "3.5.3"
  }
 },
 "nbformat": 4,
 "nbformat_minor": 1
}
