{
 "cells": [
  {
   "cell_type": "code",
   "execution_count": 1,
   "metadata": {},
   "outputs": [],
   "source": [
    "from __future__ import absolute_import, division, print_function"
   ]
  },
  {
   "cell_type": "code",
   "execution_count": 2,
   "metadata": {},
   "outputs": [],
   "source": [
    "import codecs\n",
    "import glob\n",
    "import logging\n",
    "import multiprocessing\n",
    "import os\n",
    "import pprint\n",
    "import re"
   ]
  },
  {
   "cell_type": "code",
   "execution_count": 3,
   "metadata": {},
   "outputs": [],
   "source": [
    "import nltk\n",
    "import gensim.models.word2vec as w2v\n",
    "import sklearn.manifold\n",
    "import numpy as np\n",
    "import matplotlib.pyplot as plt\n",
    "import pandas as pd\n",
    "import seaborn as sns"
   ]
  },
  {
   "cell_type": "code",
   "execution_count": 4,
   "metadata": {},
   "outputs": [
    {
     "name": "stdout",
     "output_type": "stream",
     "text": [
      "Populating the interactive namespace from numpy and matplotlib\n"
     ]
    }
   ],
   "source": [
    "%pylab inline"
   ]
  },
  {
   "cell_type": "markdown",
   "metadata": {},
   "source": [
    "**Set up logging**"
   ]
  },
  {
   "cell_type": "code",
   "execution_count": 5,
   "metadata": {},
   "outputs": [],
   "source": [
    "logging.basicConfig(format='%(asctime)s : %(levelname)s : %(message)s', level=logging.INFO)"
   ]
  },
  {
   "cell_type": "markdown",
   "metadata": {
    "collapsed": true
   },
   "source": [
    "**Download NLTK tokenizer models (only the first time)**"
   ]
  },
  {
   "cell_type": "code",
   "execution_count": 6,
   "metadata": {},
   "outputs": [
    {
     "name": "stdout",
     "output_type": "stream",
     "text": [
      "[nltk_data] Downloading package punkt to\n",
      "[nltk_data]     /Users/bjuncklaus/nltk_data...\n",
      "[nltk_data]   Package punkt is already up-to-date!\n",
      "[nltk_data] Downloading package stopwords to\n",
      "[nltk_data]     /Users/bjuncklaus/nltk_data...\n",
      "[nltk_data]   Package stopwords is already up-to-date!\n"
     ]
    },
    {
     "data": {
      "text/plain": [
       "True"
      ]
     },
     "execution_count": 6,
     "metadata": {},
     "output_type": "execute_result"
    }
   ],
   "source": [
    "nltk.download(\"punkt\")\n",
    "nltk.download(\"stopwords\")"
   ]
  },
  {
   "cell_type": "markdown",
   "metadata": {},
   "source": [
    "## Prepare Corpus"
   ]
  },
  {
   "cell_type": "code",
   "execution_count": 7,
   "metadata": {},
   "outputs": [],
   "source": [
    "lyrics_filenames = sorted(glob.glob(\"data/*.txt\"))"
   ]
  },
  {
   "cell_type": "code",
   "execution_count": 8,
   "metadata": {},
   "outputs": [
    {
     "name": "stdout",
     "output_type": "stream",
     "text": [
      "Found lyrics:\n"
     ]
    },
    {
     "data": {
      "text/plain": [
       "['data/plots_full.txt']"
      ]
     },
     "execution_count": 8,
     "metadata": {},
     "output_type": "execute_result"
    }
   ],
   "source": [
    "print(\"Found lyrics:\")\n",
    "lyrics_filenames"
   ]
  },
  {
   "cell_type": "code",
   "execution_count": 9,
   "metadata": {},
   "outputs": [
    {
     "name": "stdout",
     "output_type": "stream",
     "text": [
      "Reading 'data/plots_full.txt'...\n",
      "Corpus is now 79261768 characters long\n",
      "\n"
     ]
    }
   ],
   "source": [
    "corpus_raw = u\"\"\n",
    "for lyric_filename in lyrics_filenames:\n",
    "    print(\"Reading '{0}'...\".format(lyric_filename))\n",
    "    with codecs.open(lyric_filename, \"r\", \"utf-8\") as lyric_file:\n",
    "        corpus_raw += lyric_file.read()\n",
    "    print(\"Corpus is now {0} characters long\".format(len(corpus_raw)))\n",
    "    print()"
   ]
  },
  {
   "cell_type": "markdown",
   "metadata": {},
   "source": [
    "**Split the corpus into sentences**"
   ]
  },
  {
   "cell_type": "code",
   "execution_count": 10,
   "metadata": {},
   "outputs": [],
   "source": [
    "tokenizer = nltk.data.load('tokenizers/punkt/english.pickle')"
   ]
  },
  {
   "cell_type": "code",
   "execution_count": 11,
   "metadata": {},
   "outputs": [],
   "source": [
    "raw_sentences = tokenizer.tokenize(corpus_raw)"
   ]
  },
  {
   "cell_type": "code",
   "execution_count": 12,
   "metadata": {},
   "outputs": [],
   "source": [
    "#convert into a list of words\n",
    "#rtemove unnnecessary,, split into words, no hyphens\n",
    "#list of words\n",
    "def sentence_to_wordlist(raw):\n",
    "    clean = re.sub(\"[^a-zA-Z]\",\" \", raw)\n",
    "    words = clean.split()\n",
    "    return words"
   ]
  },
  {
   "cell_type": "code",
   "execution_count": 13,
   "metadata": {},
   "outputs": [],
   "source": [
    "#sentence where each word is tokenized\n",
    "sentences = []\n",
    "for raw_sentence in raw_sentences:\n",
    "    if len(raw_sentence) > 0:\n",
    "        sentences.append(sentence_to_wordlist(raw_sentence))"
   ]
  },
  {
   "cell_type": "code",
   "execution_count": 14,
   "metadata": {},
   "outputs": [
    {
     "name": "stdout",
     "output_type": "stream",
     "text": [
      "Through a young pig named Squealer, Napoleon claims credit for the windmill idea.\n",
      "['Through', 'a', 'young', 'pig', 'named', 'Squealer', 'Napoleon', 'claims', 'credit', 'for', 'the', 'windmill', 'idea']\n"
     ]
    }
   ],
   "source": [
    "print(raw_sentences[15])\n",
    "print(sentence_to_wordlist(raw_sentences[15]))"
   ]
  },
  {
   "cell_type": "code",
   "execution_count": 15,
   "metadata": {},
   "outputs": [
    {
     "name": "stdout",
     "output_type": "stream",
     "text": [
      "The lyrics corpus contains 13,801,737 tokens\n"
     ]
    }
   ],
   "source": [
    "token_count = sum([len(sentence) for sentence in sentences])\n",
    "print(\"The lyrics corpus contains {0:,} tokens\".format(token_count))"
   ]
  },
  {
   "cell_type": "markdown",
   "metadata": {},
   "source": [
    "## Train Word2Vec"
   ]
  },
  {
   "cell_type": "code",
   "execution_count": 16,
   "metadata": {},
   "outputs": [],
   "source": [
    "#ONCE we have vectors\n",
    "#step 3 - build model\n",
    "#3 main tasks that vectors help with\n",
    "#DISTANCE, SIMILARITY, RANKING\n",
    "\n",
    "# Dimensionality of the resulting word vectors.\n",
    "#more dimensions, more computationally expensive to train\n",
    "#but also more accurate\n",
    "#more dimensions = more generalized\n",
    "num_features = 300\n",
    "# Minimum word count threshold.\n",
    "min_word_count = 3\n",
    "\n",
    "# Number of threads to run in parallel.\n",
    "#more workers, faster we train\n",
    "num_workers = multiprocessing.cpu_count()\n",
    "\n",
    "# Context window length.\n",
    "context_size = 7\n",
    "\n",
    "# Downsample setting for frequent words.\n",
    "#0 - 1e-5 is good for this\n",
    "downsampling = 1e-3\n",
    "\n",
    "# Seed for the RNG, to make the results reproducible.\n",
    "#random number generator\n",
    "#deterministic, good for debugging\n",
    "seed = 1"
   ]
  },
  {
   "cell_type": "code",
   "execution_count": 17,
   "metadata": {},
   "outputs": [],
   "source": [
    "w2vec = w2v.Word2Vec(\n",
    "    sg=1,\n",
    "    seed=seed,\n",
    "    workers=num_workers,\n",
    "    size=num_features,\n",
    "    min_count=min_word_count,\n",
    "    window=context_size,\n",
    "    sample=downsampling\n",
    ")"
   ]
  },
  {
   "cell_type": "code",
   "execution_count": 18,
   "metadata": {},
   "outputs": [
    {
     "name": "stderr",
     "output_type": "stream",
     "text": [
      "2017-11-24 21:59:23,280 : INFO : collecting all words and their counts\n",
      "2017-11-24 21:59:23,284 : INFO : PROGRESS: at sentence #0, processed 0 words, keeping 0 word types\n",
      "2017-11-24 21:59:23,401 : INFO : PROGRESS: at sentence #10000, processed 216021 words, keeping 21021 word types\n",
      "2017-11-24 21:59:23,485 : INFO : PROGRESS: at sentence #20000, processed 429653 words, keeping 29909 word types\n",
      "2017-11-24 21:59:23,556 : INFO : PROGRESS: at sentence #30000, processed 638375 words, keeping 36266 word types\n",
      "2017-11-24 21:59:23,634 : INFO : PROGRESS: at sentence #40000, processed 853201 words, keeping 41846 word types\n",
      "2017-11-24 21:59:23,720 : INFO : PROGRESS: at sentence #50000, processed 1070832 words, keeping 46726 word types\n",
      "2017-11-24 21:59:23,803 : INFO : PROGRESS: at sentence #60000, processed 1287921 words, keeping 51476 word types\n",
      "2017-11-24 21:59:23,887 : INFO : PROGRESS: at sentence #70000, processed 1504595 words, keeping 55718 word types\n",
      "2017-11-24 21:59:23,971 : INFO : PROGRESS: at sentence #80000, processed 1724218 words, keeping 59900 word types\n",
      "2017-11-24 21:59:24,056 : INFO : PROGRESS: at sentence #90000, processed 1945115 words, keeping 63758 word types\n",
      "2017-11-24 21:59:24,134 : INFO : PROGRESS: at sentence #100000, processed 2159749 words, keeping 67403 word types\n",
      "2017-11-24 21:59:24,224 : INFO : PROGRESS: at sentence #110000, processed 2378461 words, keeping 70916 word types\n",
      "2017-11-24 21:59:24,312 : INFO : PROGRESS: at sentence #120000, processed 2593474 words, keeping 74064 word types\n",
      "2017-11-24 21:59:24,399 : INFO : PROGRESS: at sentence #130000, processed 2808999 words, keeping 77503 word types\n",
      "2017-11-24 21:59:24,484 : INFO : PROGRESS: at sentence #140000, processed 3024847 words, keeping 80293 word types\n",
      "2017-11-24 21:59:24,569 : INFO : PROGRESS: at sentence #150000, processed 3244216 words, keeping 83296 word types\n",
      "2017-11-24 21:59:24,651 : INFO : PROGRESS: at sentence #160000, processed 3459274 words, keeping 86233 word types\n",
      "2017-11-24 21:59:24,742 : INFO : PROGRESS: at sentence #170000, processed 3673179 words, keeping 88767 word types\n",
      "2017-11-24 21:59:24,828 : INFO : PROGRESS: at sentence #180000, processed 3893997 words, keeping 91613 word types\n",
      "2017-11-24 21:59:24,906 : INFO : PROGRESS: at sentence #190000, processed 4111961 words, keeping 94489 word types\n",
      "2017-11-24 21:59:24,992 : INFO : PROGRESS: at sentence #200000, processed 4329170 words, keeping 97139 word types\n",
      "2017-11-24 21:59:25,073 : INFO : PROGRESS: at sentence #210000, processed 4545378 words, keeping 99602 word types\n",
      "2017-11-24 21:59:25,156 : INFO : PROGRESS: at sentence #220000, processed 4761159 words, keeping 102081 word types\n",
      "2017-11-24 21:59:25,235 : INFO : PROGRESS: at sentence #230000, processed 4970650 words, keeping 104409 word types\n",
      "2017-11-24 21:59:25,323 : INFO : PROGRESS: at sentence #240000, processed 5189461 words, keeping 106778 word types\n",
      "2017-11-24 21:59:25,409 : INFO : PROGRESS: at sentence #250000, processed 5408775 words, keeping 109337 word types\n",
      "2017-11-24 21:59:25,493 : INFO : PROGRESS: at sentence #260000, processed 5631389 words, keeping 111588 word types\n",
      "2017-11-24 21:59:25,574 : INFO : PROGRESS: at sentence #270000, processed 5847540 words, keeping 113614 word types\n",
      "2017-11-24 21:59:25,664 : INFO : PROGRESS: at sentence #280000, processed 6063301 words, keeping 115451 word types\n",
      "2017-11-24 21:59:25,762 : INFO : PROGRESS: at sentence #290000, processed 6275369 words, keeping 117433 word types\n",
      "2017-11-24 21:59:25,857 : INFO : PROGRESS: at sentence #300000, processed 6491997 words, keeping 119483 word types\n",
      "2017-11-24 21:59:25,954 : INFO : PROGRESS: at sentence #310000, processed 6708477 words, keeping 121531 word types\n",
      "2017-11-24 21:59:26,036 : INFO : PROGRESS: at sentence #320000, processed 6921205 words, keeping 123316 word types\n",
      "2017-11-24 21:59:26,125 : INFO : PROGRESS: at sentence #330000, processed 7136407 words, keeping 125076 word types\n",
      "2017-11-24 21:59:26,206 : INFO : PROGRESS: at sentence #340000, processed 7352636 words, keeping 127022 word types\n",
      "2017-11-24 21:59:26,287 : INFO : PROGRESS: at sentence #350000, processed 7567375 words, keeping 128825 word types\n",
      "2017-11-24 21:59:26,367 : INFO : PROGRESS: at sentence #360000, processed 7776527 words, keeping 130365 word types\n",
      "2017-11-24 21:59:26,449 : INFO : PROGRESS: at sentence #370000, processed 7986115 words, keeping 132010 word types\n",
      "2017-11-24 21:59:26,543 : INFO : PROGRESS: at sentence #380000, processed 8202866 words, keeping 133790 word types\n",
      "2017-11-24 21:59:26,622 : INFO : PROGRESS: at sentence #390000, processed 8415148 words, keeping 135382 word types\n",
      "2017-11-24 21:59:26,703 : INFO : PROGRESS: at sentence #400000, processed 8630894 words, keeping 137176 word types\n",
      "2017-11-24 21:59:26,784 : INFO : PROGRESS: at sentence #410000, processed 8844549 words, keeping 138994 word types\n",
      "2017-11-24 21:59:26,865 : INFO : PROGRESS: at sentence #420000, processed 9060942 words, keeping 140950 word types\n",
      "2017-11-24 21:59:26,949 : INFO : PROGRESS: at sentence #430000, processed 9275653 words, keeping 142816 word types\n",
      "2017-11-24 21:59:27,028 : INFO : PROGRESS: at sentence #440000, processed 9485577 words, keeping 144522 word types\n",
      "2017-11-24 21:59:27,116 : INFO : PROGRESS: at sentence #450000, processed 9699282 words, keeping 146095 word types\n",
      "2017-11-24 21:59:27,217 : INFO : PROGRESS: at sentence #460000, processed 9908563 words, keeping 147773 word types\n",
      "2017-11-24 21:59:27,302 : INFO : PROGRESS: at sentence #470000, processed 10121611 words, keeping 149494 word types\n",
      "2017-11-24 21:59:27,387 : INFO : PROGRESS: at sentence #480000, processed 10336622 words, keeping 150976 word types\n",
      "2017-11-24 21:59:27,472 : INFO : PROGRESS: at sentence #490000, processed 10544973 words, keeping 152540 word types\n",
      "2017-11-24 21:59:27,550 : INFO : PROGRESS: at sentence #500000, processed 10759567 words, keeping 154098 word types\n",
      "2017-11-24 21:59:27,641 : INFO : PROGRESS: at sentence #510000, processed 10981607 words, keeping 155673 word types\n",
      "2017-11-24 21:59:27,726 : INFO : PROGRESS: at sentence #520000, processed 11202534 words, keeping 157301 word types\n",
      "2017-11-24 21:59:27,812 : INFO : PROGRESS: at sentence #530000, processed 11420769 words, keeping 159093 word types\n",
      "2017-11-24 21:59:27,894 : INFO : PROGRESS: at sentence #540000, processed 11634743 words, keeping 160788 word types\n",
      "2017-11-24 21:59:27,971 : INFO : PROGRESS: at sentence #550000, processed 11837331 words, keeping 162188 word types\n",
      "2017-11-24 21:59:28,056 : INFO : PROGRESS: at sentence #560000, processed 12050266 words, keeping 163923 word types\n",
      "2017-11-24 21:59:28,153 : INFO : PROGRESS: at sentence #570000, processed 12263177 words, keeping 165399 word types\n",
      "2017-11-24 21:59:28,235 : INFO : PROGRESS: at sentence #580000, processed 12478804 words, keeping 167096 word types\n",
      "2017-11-24 21:59:28,318 : INFO : PROGRESS: at sentence #590000, processed 12690099 words, keeping 168590 word types\n",
      "2017-11-24 21:59:28,398 : INFO : PROGRESS: at sentence #600000, processed 12899556 words, keeping 170150 word types\n",
      "2017-11-24 21:59:28,479 : INFO : PROGRESS: at sentence #610000, processed 13114119 words, keeping 171664 word types\n",
      "2017-11-24 21:59:28,560 : INFO : PROGRESS: at sentence #620000, processed 13327933 words, keeping 173136 word types\n",
      "2017-11-24 21:59:28,645 : INFO : PROGRESS: at sentence #630000, processed 13539683 words, keeping 174563 word types\n",
      "2017-11-24 21:59:28,733 : INFO : PROGRESS: at sentence #640000, processed 13751598 words, keeping 176132 word types\n",
      "2017-11-24 21:59:28,754 : INFO : collected 176448 word types from a corpus of 13801737 raw words and 642305 sentences\n",
      "2017-11-24 21:59:28,755 : INFO : Loading a fresh vocabulary\n",
      "2017-11-24 21:59:29,059 : INFO : min_count=3 retains 93734 unique words (53% of original 176448, drops 82714)\n",
      "2017-11-24 21:59:29,060 : INFO : min_count=3 leaves 13696117 word corpus (99% of original 13801737, drops 105620)\n",
      "2017-11-24 21:59:29,363 : INFO : deleting the raw counts dictionary of 176448 items\n",
      "2017-11-24 21:59:29,369 : INFO : sample=0.001 downsamples 36 most-common words\n",
      "2017-11-24 21:59:29,370 : INFO : downsampling leaves estimated 10488042 word corpus (76.6% of prior 13696117)\n",
      "2017-11-24 21:59:29,372 : INFO : estimated required memory for 93734 words and 300 dimensions: 271828600 bytes\n"
     ]
    },
    {
     "name": "stderr",
     "output_type": "stream",
     "text": [
      "2017-11-24 21:59:29,772 : INFO : resetting layer weights\n"
     ]
    }
   ],
   "source": [
    "w2vec.build_vocab(sentences)"
   ]
  },
  {
   "cell_type": "code",
   "execution_count": 19,
   "metadata": {
    "scrolled": true
   },
   "outputs": [
    {
     "name": "stdout",
     "output_type": "stream",
     "text": [
      "Word2Vec vocabulary length: 93734\n"
     ]
    }
   ],
   "source": [
    "print(\"Word2Vec vocabulary length:\", len(w2vec.wv.vocab))"
   ]
  },
  {
   "cell_type": "markdown",
   "metadata": {},
   "source": [
    "**Start training, this might take a minute or two...**"
   ]
  },
  {
   "cell_type": "code",
   "execution_count": 21,
   "metadata": {},
   "outputs": [
    {
     "name": "stderr",
     "output_type": "stream",
     "text": [
      "2017-11-24 21:05:13,578 : INFO : training model with 4 workers on 93734 vocabulary and 300 features, using sg=1 hs=0 sample=0.001 negative=5 window=7\n",
      "2017-11-24 21:05:14,602 : INFO : PROGRESS: at 0.20% examples, 106320 words/s, in_qsize 7, out_qsize 0\n",
      "2017-11-24 21:05:15,615 : INFO : PROGRESS: at 0.46% examples, 120591 words/s, in_qsize 7, out_qsize 0\n",
      "2017-11-24 21:05:16,633 : INFO : PROGRESS: at 0.67% examples, 115191 words/s, in_qsize 7, out_qsize 0\n",
      "2017-11-24 21:05:17,723 : INFO : PROGRESS: at 0.95% examples, 119845 words/s, in_qsize 7, out_qsize 0\n",
      "2017-11-24 21:05:18,748 : INFO : PROGRESS: at 1.24% examples, 125616 words/s, in_qsize 7, out_qsize 0\n",
      "2017-11-24 21:05:19,849 : INFO : PROGRESS: at 1.51% examples, 126531 words/s, in_qsize 7, out_qsize 0\n",
      "2017-11-24 21:05:20,884 : INFO : PROGRESS: at 1.80% examples, 129404 words/s, in_qsize 7, out_qsize 0\n",
      "2017-11-24 21:05:21,903 : INFO : PROGRESS: at 2.06% examples, 129988 words/s, in_qsize 7, out_qsize 0\n",
      "2017-11-24 21:05:22,911 : INFO : PROGRESS: at 2.31% examples, 130606 words/s, in_qsize 8, out_qsize 0\n",
      "2017-11-24 21:05:23,955 : INFO : PROGRESS: at 2.52% examples, 128432 words/s, in_qsize 8, out_qsize 0\n",
      "2017-11-24 21:05:25,065 : INFO : PROGRESS: at 2.75% examples, 126577 words/s, in_qsize 7, out_qsize 0\n",
      "2017-11-24 21:05:26,100 : INFO : PROGRESS: at 2.97% examples, 125211 words/s, in_qsize 8, out_qsize 0\n",
      "2017-11-24 21:05:27,167 : INFO : PROGRESS: at 3.24% examples, 125972 words/s, in_qsize 7, out_qsize 0\n",
      "2017-11-24 21:05:28,202 : INFO : PROGRESS: at 3.52% examples, 127444 words/s, in_qsize 7, out_qsize 0\n",
      "2017-11-24 21:05:29,209 : INFO : PROGRESS: at 3.80% examples, 128484 words/s, in_qsize 7, out_qsize 0\n",
      "2017-11-24 21:05:30,241 : INFO : PROGRESS: at 4.09% examples, 129618 words/s, in_qsize 7, out_qsize 0\n",
      "2017-11-24 21:05:31,277 : INFO : PROGRESS: at 4.37% examples, 130637 words/s, in_qsize 7, out_qsize 0\n",
      "2017-11-24 21:05:32,310 : INFO : PROGRESS: at 4.66% examples, 131524 words/s, in_qsize 7, out_qsize 0\n",
      "2017-11-24 21:05:33,409 : INFO : PROGRESS: at 4.95% examples, 131880 words/s, in_qsize 7, out_qsize 0\n",
      "2017-11-24 21:05:34,552 : INFO : PROGRESS: at 5.24% examples, 131962 words/s, in_qsize 7, out_qsize 0\n",
      "2017-11-24 21:05:35,730 : INFO : PROGRESS: at 5.47% examples, 130439 words/s, in_qsize 7, out_qsize 0\n",
      "2017-11-24 21:05:36,841 : INFO : PROGRESS: at 5.64% examples, 128111 words/s, in_qsize 7, out_qsize 0\n",
      "2017-11-24 21:05:37,891 : INFO : PROGRESS: at 5.81% examples, 126313 words/s, in_qsize 8, out_qsize 0\n",
      "2017-11-24 21:05:38,923 : INFO : PROGRESS: at 6.01% examples, 125343 words/s, in_qsize 7, out_qsize 0\n",
      "2017-11-24 21:05:39,937 : INFO : PROGRESS: at 6.21% examples, 124541 words/s, in_qsize 7, out_qsize 0\n",
      "2017-11-24 21:05:40,944 : INFO : PROGRESS: at 6.41% examples, 123852 words/s, in_qsize 7, out_qsize 0\n",
      "2017-11-24 21:05:41,952 : INFO : PROGRESS: at 6.61% examples, 123179 words/s, in_qsize 7, out_qsize 0\n",
      "2017-11-24 21:05:43,132 : INFO : PROGRESS: at 6.81% examples, 121862 words/s, in_qsize 7, out_qsize 0\n",
      "2017-11-24 21:05:44,133 : INFO : PROGRESS: at 7.03% examples, 121602 words/s, in_qsize 7, out_qsize 0\n",
      "2017-11-24 21:05:45,164 : INFO : PROGRESS: at 7.24% examples, 120994 words/s, in_qsize 7, out_qsize 0\n",
      "2017-11-24 21:05:46,166 : INFO : PROGRESS: at 7.44% examples, 120543 words/s, in_qsize 7, out_qsize 0\n",
      "2017-11-24 21:05:47,321 : INFO : PROGRESS: at 7.66% examples, 119995 words/s, in_qsize 7, out_qsize 0\n",
      "2017-11-24 21:05:48,451 : INFO : PROGRESS: at 7.89% examples, 119582 words/s, in_qsize 8, out_qsize 0\n",
      "2017-11-24 21:05:49,471 : INFO : PROGRESS: at 8.10% examples, 119349 words/s, in_qsize 7, out_qsize 0\n",
      "2017-11-24 21:05:50,533 : INFO : PROGRESS: at 8.26% examples, 118180 words/s, in_qsize 6, out_qsize 1\n",
      "2017-11-24 21:05:51,808 : INFO : PROGRESS: at 8.40% examples, 116220 words/s, in_qsize 7, out_qsize 0\n",
      "2017-11-24 21:05:52,878 : INFO : PROGRESS: at 8.49% examples, 114215 words/s, in_qsize 8, out_qsize 0\n",
      "2017-11-24 21:05:53,937 : INFO : PROGRESS: at 8.63% examples, 113107 words/s, in_qsize 7, out_qsize 0\n",
      "2017-11-24 21:05:55,060 : INFO : PROGRESS: at 8.81% examples, 112241 words/s, in_qsize 7, out_qsize 0\n",
      "2017-11-24 21:05:56,095 : INFO : PROGRESS: at 8.98% examples, 111644 words/s, in_qsize 8, out_qsize 0\n",
      "2017-11-24 21:05:57,114 : INFO : PROGRESS: at 9.14% examples, 110933 words/s, in_qsize 7, out_qsize 0\n",
      "2017-11-24 21:05:58,149 : INFO : PROGRESS: at 9.30% examples, 110227 words/s, in_qsize 7, out_qsize 0\n",
      "2017-11-24 21:05:59,169 : INFO : PROGRESS: at 9.50% examples, 110092 words/s, in_qsize 7, out_qsize 0\n",
      "2017-11-24 21:06:00,198 : INFO : PROGRESS: at 9.72% examples, 110109 words/s, in_qsize 7, out_qsize 0\n",
      "2017-11-24 21:06:01,274 : INFO : PROGRESS: at 9.93% examples, 110016 words/s, in_qsize 7, out_qsize 0\n",
      "2017-11-24 21:06:02,356 : INFO : PROGRESS: at 10.15% examples, 109911 words/s, in_qsize 7, out_qsize 0\n",
      "2017-11-24 21:06:03,455 : INFO : PROGRESS: at 10.37% examples, 109765 words/s, in_qsize 8, out_qsize 0\n",
      "2017-11-24 21:06:04,475 : INFO : PROGRESS: at 10.57% examples, 109647 words/s, in_qsize 8, out_qsize 0\n",
      "2017-11-24 21:06:05,576 : INFO : PROGRESS: at 10.77% examples, 109364 words/s, in_qsize 7, out_qsize 0\n",
      "2017-11-24 21:06:06,620 : INFO : PROGRESS: at 10.99% examples, 109354 words/s, in_qsize 7, out_qsize 0\n",
      "2017-11-24 21:06:07,712 : INFO : PROGRESS: at 11.18% examples, 108984 words/s, in_qsize 7, out_qsize 0\n",
      "2017-11-24 21:06:08,764 : INFO : PROGRESS: at 11.37% examples, 108565 words/s, in_qsize 8, out_qsize 0\n",
      "2017-11-24 21:06:09,778 : INFO : PROGRESS: at 11.58% examples, 108631 words/s, in_qsize 7, out_qsize 0\n",
      "2017-11-24 21:06:10,851 : INFO : PROGRESS: at 11.78% examples, 108450 words/s, in_qsize 7, out_qsize 0\n",
      "2017-11-24 21:06:12,024 : INFO : PROGRESS: at 12.02% examples, 108350 words/s, in_qsize 7, out_qsize 0\n",
      "2017-11-24 21:06:13,116 : INFO : PROGRESS: at 12.25% examples, 108406 words/s, in_qsize 7, out_qsize 0\n",
      "2017-11-24 21:06:14,271 : INFO : PROGRESS: at 12.48% examples, 108345 words/s, in_qsize 8, out_qsize 0\n",
      "2017-11-24 21:06:15,275 : INFO : PROGRESS: at 12.68% examples, 108305 words/s, in_qsize 8, out_qsize 0\n",
      "2017-11-24 21:06:16,381 : INFO : PROGRESS: at 12.90% examples, 108211 words/s, in_qsize 7, out_qsize 0\n",
      "2017-11-24 21:06:17,601 : INFO : PROGRESS: at 13.13% examples, 108047 words/s, in_qsize 7, out_qsize 0\n",
      "2017-11-24 21:06:18,713 : INFO : PROGRESS: at 13.36% examples, 108064 words/s, in_qsize 8, out_qsize 0\n",
      "2017-11-24 21:06:19,757 : INFO : PROGRESS: at 13.59% examples, 108084 words/s, in_qsize 7, out_qsize 0\n",
      "2017-11-24 21:06:20,910 : INFO : PROGRESS: at 13.78% examples, 107697 words/s, in_qsize 6, out_qsize 1\n",
      "2017-11-24 21:06:22,103 : INFO : PROGRESS: at 14.01% examples, 107599 words/s, in_qsize 7, out_qsize 0\n",
      "2017-11-24 21:06:23,188 : INFO : PROGRESS: at 14.19% examples, 107227 words/s, in_qsize 7, out_qsize 0\n",
      "2017-11-24 21:06:24,242 : INFO : PROGRESS: at 14.37% examples, 106924 words/s, in_qsize 8, out_qsize 0\n",
      "2017-11-24 21:06:25,244 : INFO : PROGRESS: at 14.58% examples, 107012 words/s, in_qsize 8, out_qsize 0\n",
      "2017-11-24 21:06:26,295 : INFO : PROGRESS: at 14.77% examples, 106824 words/s, in_qsize 7, out_qsize 0\n",
      "2017-11-24 21:06:27,325 : INFO : PROGRESS: at 14.98% examples, 106777 words/s, in_qsize 7, out_qsize 0\n",
      "2017-11-24 21:06:28,355 : INFO : PROGRESS: at 15.20% examples, 106830 words/s, in_qsize 7, out_qsize 0\n",
      "2017-11-24 21:06:29,371 : INFO : PROGRESS: at 15.40% examples, 106800 words/s, in_qsize 8, out_qsize 0\n",
      "2017-11-24 21:06:30,378 : INFO : PROGRESS: at 15.61% examples, 106783 words/s, in_qsize 8, out_qsize 0\n",
      "2017-11-24 21:06:31,405 : INFO : PROGRESS: at 15.83% examples, 106838 words/s, in_qsize 7, out_qsize 0\n",
      "2017-11-24 21:06:32,437 : INFO : PROGRESS: at 16.00% examples, 106708 words/s, in_qsize 7, out_qsize 0\n",
      "2017-11-24 21:06:33,460 : INFO : PROGRESS: at 16.19% examples, 106665 words/s, in_qsize 8, out_qsize 0\n",
      "2017-11-24 21:06:34,517 : INFO : PROGRESS: at 16.41% examples, 106678 words/s, in_qsize 7, out_qsize 0\n",
      "2017-11-24 21:06:35,547 : INFO : PROGRESS: at 16.60% examples, 106540 words/s, in_qsize 8, out_qsize 0\n",
      "2017-11-24 21:06:36,557 : INFO : PROGRESS: at 16.80% examples, 106521 words/s, in_qsize 7, out_qsize 0\n",
      "2017-11-24 21:06:37,567 : INFO : PROGRESS: at 17.02% examples, 106508 words/s, in_qsize 7, out_qsize 0\n"
     ]
    },
    {
     "name": "stderr",
     "output_type": "stream",
     "text": [
      "2017-11-24 21:06:38,572 : INFO : PROGRESS: at 17.18% examples, 106234 words/s, in_qsize 8, out_qsize 0\n",
      "2017-11-24 21:06:39,585 : INFO : PROGRESS: at 17.38% examples, 106211 words/s, in_qsize 7, out_qsize 0\n",
      "2017-11-24 21:06:40,716 : INFO : PROGRESS: at 17.61% examples, 106139 words/s, in_qsize 6, out_qsize 1\n",
      "2017-11-24 21:06:41,716 : INFO : PROGRESS: at 17.82% examples, 106223 words/s, in_qsize 7, out_qsize 0\n",
      "2017-11-24 21:06:42,745 : INFO : PROGRESS: at 18.04% examples, 106271 words/s, in_qsize 7, out_qsize 0\n",
      "2017-11-24 21:06:43,772 : INFO : PROGRESS: at 18.24% examples, 106236 words/s, in_qsize 8, out_qsize 0\n",
      "2017-11-24 21:06:44,826 : INFO : PROGRESS: at 18.47% examples, 106261 words/s, in_qsize 7, out_qsize 0\n",
      "2017-11-24 21:06:45,874 : INFO : PROGRESS: at 18.69% examples, 106289 words/s, in_qsize 7, out_qsize 0\n",
      "2017-11-24 21:06:46,889 : INFO : PROGRESS: at 18.90% examples, 106268 words/s, in_qsize 7, out_qsize 0\n",
      "2017-11-24 21:06:47,921 : INFO : PROGRESS: at 19.11% examples, 106306 words/s, in_qsize 7, out_qsize 0\n",
      "2017-11-24 21:06:49,080 : INFO : PROGRESS: at 19.33% examples, 106208 words/s, in_qsize 8, out_qsize 0\n",
      "2017-11-24 21:06:50,092 : INFO : PROGRESS: at 19.52% examples, 106116 words/s, in_qsize 7, out_qsize 0\n",
      "2017-11-24 21:06:51,195 : INFO : PROGRESS: at 19.74% examples, 106078 words/s, in_qsize 7, out_qsize 0\n",
      "2017-11-24 21:06:52,222 : INFO : PROGRESS: at 19.96% examples, 106122 words/s, in_qsize 7, out_qsize 0\n",
      "2017-11-24 21:06:53,268 : INFO : PROGRESS: at 20.13% examples, 105923 words/s, in_qsize 8, out_qsize 0\n",
      "2017-11-24 21:06:54,315 : INFO : PROGRESS: at 20.32% examples, 105803 words/s, in_qsize 8, out_qsize 0\n",
      "2017-11-24 21:06:55,484 : INFO : PROGRESS: at 20.55% examples, 105781 words/s, in_qsize 7, out_qsize 0\n",
      "2017-11-24 21:06:56,490 : INFO : PROGRESS: at 20.76% examples, 105783 words/s, in_qsize 7, out_qsize 0\n",
      "2017-11-24 21:06:57,598 : INFO : PROGRESS: at 20.98% examples, 105754 words/s, in_qsize 7, out_qsize 0\n",
      "2017-11-24 21:06:58,644 : INFO : PROGRESS: at 21.20% examples, 105793 words/s, in_qsize 7, out_qsize 0\n",
      "2017-11-24 21:06:59,687 : INFO : PROGRESS: at 21.40% examples, 105756 words/s, in_qsize 7, out_qsize 0\n",
      "2017-11-24 21:07:00,714 : INFO : PROGRESS: at 21.61% examples, 105806 words/s, in_qsize 7, out_qsize 0\n",
      "2017-11-24 21:07:01,760 : INFO : PROGRESS: at 21.83% examples, 105838 words/s, in_qsize 7, out_qsize 0\n",
      "2017-11-24 21:07:02,797 : INFO : PROGRESS: at 22.03% examples, 105807 words/s, in_qsize 7, out_qsize 0\n",
      "2017-11-24 21:07:03,841 : INFO : PROGRESS: at 22.24% examples, 105839 words/s, in_qsize 7, out_qsize 0\n",
      "2017-11-24 21:07:04,857 : INFO : PROGRESS: at 22.43% examples, 105761 words/s, in_qsize 7, out_qsize 0\n",
      "2017-11-24 21:07:05,924 : INFO : PROGRESS: at 22.62% examples, 105697 words/s, in_qsize 8, out_qsize 0\n",
      "2017-11-24 21:07:06,952 : INFO : PROGRESS: at 22.82% examples, 105675 words/s, in_qsize 8, out_qsize 0\n",
      "2017-11-24 21:07:07,960 : INFO : PROGRESS: at 23.01% examples, 105607 words/s, in_qsize 7, out_qsize 0\n",
      "2017-11-24 21:07:09,088 : INFO : PROGRESS: at 23.20% examples, 105431 words/s, in_qsize 8, out_qsize 0\n",
      "2017-11-24 21:07:10,092 : INFO : PROGRESS: at 23.38% examples, 105367 words/s, in_qsize 7, out_qsize 0\n",
      "2017-11-24 21:07:11,255 : INFO : PROGRESS: at 23.61% examples, 105360 words/s, in_qsize 7, out_qsize 0\n",
      "2017-11-24 21:07:12,341 : INFO : PROGRESS: at 23.84% examples, 105419 words/s, in_qsize 8, out_qsize 0\n",
      "2017-11-24 21:07:13,356 : INFO : PROGRESS: at 24.06% examples, 105475 words/s, in_qsize 7, out_qsize 0\n",
      "2017-11-24 21:07:14,407 : INFO : PROGRESS: at 24.26% examples, 105436 words/s, in_qsize 6, out_qsize 1\n",
      "2017-11-24 21:07:15,511 : INFO : PROGRESS: at 24.49% examples, 105478 words/s, in_qsize 7, out_qsize 0\n",
      "2017-11-24 21:07:16,524 : INFO : PROGRESS: at 24.70% examples, 105536 words/s, in_qsize 7, out_qsize 0\n",
      "2017-11-24 21:07:17,643 : INFO : PROGRESS: at 24.90% examples, 105439 words/s, in_qsize 7, out_qsize 0\n",
      "2017-11-24 21:07:18,764 : INFO : PROGRESS: at 25.13% examples, 105467 words/s, in_qsize 8, out_qsize 0\n",
      "2017-11-24 21:07:19,765 : INFO : PROGRESS: at 25.32% examples, 105416 words/s, in_qsize 7, out_qsize 0\n",
      "2017-11-24 21:07:20,884 : INFO : PROGRESS: at 25.54% examples, 105385 words/s, in_qsize 7, out_qsize 0\n",
      "2017-11-24 21:07:21,895 : INFO : PROGRESS: at 25.74% examples, 105380 words/s, in_qsize 7, out_qsize 0\n",
      "2017-11-24 21:07:22,992 : INFO : PROGRESS: at 25.91% examples, 105188 words/s, in_qsize 7, out_qsize 0\n",
      "2017-11-24 21:07:24,029 : INFO : PROGRESS: at 26.10% examples, 105166 words/s, in_qsize 7, out_qsize 0\n",
      "2017-11-24 21:07:25,054 : INFO : PROGRESS: at 26.31% examples, 105154 words/s, in_qsize 6, out_qsize 1\n",
      "2017-11-24 21:07:26,088 : INFO : PROGRESS: at 26.52% examples, 105192 words/s, in_qsize 7, out_qsize 0\n",
      "2017-11-24 21:07:27,116 : INFO : PROGRESS: at 26.73% examples, 105179 words/s, in_qsize 8, out_qsize 0\n",
      "2017-11-24 21:07:28,243 : INFO : PROGRESS: at 26.94% examples, 105147 words/s, in_qsize 7, out_qsize 0\n",
      "2017-11-24 21:07:29,247 : INFO : PROGRESS: at 27.17% examples, 105209 words/s, in_qsize 7, out_qsize 0\n",
      "2017-11-24 21:07:30,380 : INFO : PROGRESS: at 27.38% examples, 105169 words/s, in_qsize 8, out_qsize 0\n",
      "2017-11-24 21:07:31,383 : INFO : PROGRESS: at 27.60% examples, 105227 words/s, in_qsize 7, out_qsize 0\n",
      "2017-11-24 21:07:32,470 : INFO : PROGRESS: at 27.79% examples, 105166 words/s, in_qsize 7, out_qsize 0\n",
      "2017-11-24 21:07:33,471 : INFO : PROGRESS: at 28.00% examples, 105227 words/s, in_qsize 7, out_qsize 0\n",
      "2017-11-24 21:07:34,535 : INFO : PROGRESS: at 28.19% examples, 105133 words/s, in_qsize 7, out_qsize 0\n",
      "2017-11-24 21:07:35,749 : INFO : PROGRESS: at 28.42% examples, 105090 words/s, in_qsize 7, out_qsize 0\n",
      "2017-11-24 21:07:36,785 : INFO : PROGRESS: at 28.63% examples, 105126 words/s, in_qsize 8, out_qsize 0\n",
      "2017-11-24 21:07:37,832 : INFO : PROGRESS: at 28.81% examples, 104995 words/s, in_qsize 8, out_qsize 0\n",
      "2017-11-24 21:07:38,833 : INFO : PROGRESS: at 28.98% examples, 104896 words/s, in_qsize 7, out_qsize 0\n",
      "2017-11-24 21:07:39,947 : INFO : PROGRESS: at 29.20% examples, 104871 words/s, in_qsize 7, out_qsize 0\n",
      "2017-11-24 21:07:40,961 : INFO : PROGRESS: at 29.41% examples, 104921 words/s, in_qsize 7, out_qsize 0\n",
      "2017-11-24 21:07:41,975 : INFO : PROGRESS: at 29.62% examples, 104919 words/s, in_qsize 7, out_qsize 0\n",
      "2017-11-24 21:07:43,029 : INFO : PROGRESS: at 29.82% examples, 104892 words/s, in_qsize 6, out_qsize 1\n",
      "2017-11-24 21:07:44,174 : INFO : PROGRESS: at 30.05% examples, 104901 words/s, in_qsize 7, out_qsize 0\n",
      "2017-11-24 21:07:45,256 : INFO : PROGRESS: at 30.28% examples, 104951 words/s, in_qsize 7, out_qsize 0\n",
      "2017-11-24 21:07:46,267 : INFO : PROGRESS: at 30.50% examples, 105003 words/s, in_qsize 8, out_qsize 0\n",
      "2017-11-24 21:07:47,297 : INFO : PROGRESS: at 30.70% examples, 104988 words/s, in_qsize 7, out_qsize 0\n",
      "2017-11-24 21:07:48,390 : INFO : PROGRESS: at 30.93% examples, 105032 words/s, in_qsize 7, out_qsize 0\n",
      "2017-11-24 21:07:49,408 : INFO : PROGRESS: at 31.14% examples, 105030 words/s, in_qsize 6, out_qsize 1\n",
      "2017-11-24 21:07:50,619 : INFO : PROGRESS: at 31.37% examples, 104947 words/s, in_qsize 7, out_qsize 0\n",
      "2017-11-24 21:07:51,750 : INFO : PROGRESS: at 31.60% examples, 104963 words/s, in_qsize 7, out_qsize 0\n",
      "2017-11-24 21:07:52,754 : INFO : PROGRESS: at 31.78% examples, 104919 words/s, in_qsize 7, out_qsize 0\n",
      "2017-11-24 21:07:53,754 : INFO : PROGRESS: at 31.95% examples, 104786 words/s, in_qsize 7, out_qsize 0\n",
      "2017-11-24 21:07:54,913 : INFO : PROGRESS: at 32.18% examples, 104787 words/s, in_qsize 7, out_qsize 0\n",
      "2017-11-24 21:07:56,007 : INFO : PROGRESS: at 32.41% examples, 104828 words/s, in_qsize 7, out_qsize 0\n",
      "2017-11-24 21:07:57,043 : INFO : PROGRESS: at 32.61% examples, 104814 words/s, in_qsize 7, out_qsize 0\n",
      "2017-11-24 21:07:58,165 : INFO : PROGRESS: at 32.85% examples, 104838 words/s, in_qsize 8, out_qsize 0\n",
      "2017-11-24 21:07:59,299 : INFO : PROGRESS: at 33.07% examples, 104852 words/s, in_qsize 7, out_qsize 0\n",
      "2017-11-24 21:08:00,453 : INFO : PROGRESS: at 33.31% examples, 104854 words/s, in_qsize 7, out_qsize 0\n",
      "2017-11-24 21:08:01,573 : INFO : PROGRESS: at 33.54% examples, 104880 words/s, in_qsize 7, out_qsize 0\n",
      "2017-11-24 21:08:02,681 : INFO : PROGRESS: at 33.78% examples, 104911 words/s, in_qsize 7, out_qsize 0\n"
     ]
    },
    {
     "name": "stderr",
     "output_type": "stream",
     "text": [
      "2017-11-24 21:08:03,710 : INFO : PROGRESS: at 33.99% examples, 104948 words/s, in_qsize 7, out_qsize 0\n",
      "2017-11-24 21:08:04,808 : INFO : PROGRESS: at 34.11% examples, 104628 words/s, in_qsize 7, out_qsize 0\n",
      "2017-11-24 21:08:05,826 : INFO : PROGRESS: at 34.26% examples, 104451 words/s, in_qsize 7, out_qsize 0\n",
      "2017-11-24 21:08:06,901 : INFO : PROGRESS: at 34.44% examples, 104329 words/s, in_qsize 8, out_qsize 1\n",
      "2017-11-24 21:08:08,459 : INFO : PROGRESS: at 34.55% examples, 103745 words/s, in_qsize 7, out_qsize 0\n",
      "2017-11-24 21:08:09,530 : INFO : PROGRESS: at 34.70% examples, 103546 words/s, in_qsize 7, out_qsize 0\n",
      "2017-11-24 21:08:10,619 : INFO : PROGRESS: at 34.85% examples, 103338 words/s, in_qsize 7, out_qsize 0\n",
      "2017-11-24 21:08:11,671 : INFO : PROGRESS: at 35.06% examples, 103368 words/s, in_qsize 7, out_qsize 0\n",
      "2017-11-24 21:08:12,821 : INFO : PROGRESS: at 35.26% examples, 103256 words/s, in_qsize 7, out_qsize 0\n",
      "2017-11-24 21:08:14,041 : INFO : PROGRESS: at 35.49% examples, 103232 words/s, in_qsize 7, out_qsize 0\n",
      "2017-11-24 21:08:15,066 : INFO : PROGRESS: at 35.69% examples, 103234 words/s, in_qsize 7, out_qsize 0\n",
      "2017-11-24 21:08:16,112 : INFO : PROGRESS: at 35.87% examples, 103185 words/s, in_qsize 7, out_qsize 0\n",
      "2017-11-24 21:08:17,176 : INFO : PROGRESS: at 36.07% examples, 103168 words/s, in_qsize 7, out_qsize 0\n",
      "2017-11-24 21:08:18,181 : INFO : PROGRESS: at 36.25% examples, 103139 words/s, in_qsize 7, out_qsize 0\n",
      "2017-11-24 21:08:19,263 : INFO : PROGRESS: at 36.45% examples, 103108 words/s, in_qsize 7, out_qsize 0\n",
      "2017-11-24 21:08:20,273 : INFO : PROGRESS: at 36.67% examples, 103160 words/s, in_qsize 7, out_qsize 0\n",
      "2017-11-24 21:08:21,502 : INFO : PROGRESS: at 36.85% examples, 102971 words/s, in_qsize 7, out_qsize 0\n",
      "2017-11-24 21:08:22,553 : INFO : PROGRESS: at 36.97% examples, 102719 words/s, in_qsize 7, out_qsize 0\n",
      "2017-11-24 21:08:23,572 : INFO : PROGRESS: at 37.11% examples, 102528 words/s, in_qsize 7, out_qsize 0\n",
      "2017-11-24 21:08:24,713 : INFO : PROGRESS: at 37.27% examples, 102352 words/s, in_qsize 8, out_qsize 0\n",
      "2017-11-24 21:08:25,724 : INFO : PROGRESS: at 37.47% examples, 102363 words/s, in_qsize 7, out_qsize 0\n",
      "2017-11-24 21:08:26,811 : INFO : PROGRESS: at 37.71% examples, 102416 words/s, in_qsize 8, out_qsize 0\n",
      "2017-11-24 21:08:27,855 : INFO : PROGRESS: at 37.92% examples, 102449 words/s, in_qsize 5, out_qsize 2\n",
      "2017-11-24 21:08:29,028 : INFO : PROGRESS: at 38.14% examples, 102415 words/s, in_qsize 7, out_qsize 0\n",
      "2017-11-24 21:08:30,244 : INFO : PROGRESS: at 38.33% examples, 102285 words/s, in_qsize 7, out_qsize 0\n",
      "2017-11-24 21:08:31,284 : INFO : PROGRESS: at 38.56% examples, 102321 words/s, in_qsize 7, out_qsize 0\n",
      "2017-11-24 21:08:32,372 : INFO : PROGRESS: at 38.75% examples, 102257 words/s, in_qsize 7, out_qsize 0\n",
      "2017-11-24 21:08:33,378 : INFO : PROGRESS: at 38.82% examples, 101932 words/s, in_qsize 7, out_qsize 0\n",
      "2017-11-24 21:08:34,402 : INFO : PROGRESS: at 39.01% examples, 101901 words/s, in_qsize 7, out_qsize 0\n",
      "2017-11-24 21:08:35,433 : INFO : PROGRESS: at 39.18% examples, 101829 words/s, in_qsize 7, out_qsize 0\n",
      "2017-11-24 21:08:36,552 : INFO : PROGRESS: at 39.36% examples, 101718 words/s, in_qsize 7, out_qsize 0\n",
      "2017-11-24 21:08:37,593 : INFO : PROGRESS: at 39.53% examples, 101644 words/s, in_qsize 7, out_qsize 0\n",
      "2017-11-24 21:08:38,607 : INFO : PROGRESS: at 39.70% examples, 101548 words/s, in_qsize 7, out_qsize 0\n",
      "2017-11-24 21:08:39,618 : INFO : PROGRESS: at 39.86% examples, 101453 words/s, in_qsize 7, out_qsize 0\n",
      "2017-11-24 21:08:40,711 : INFO : PROGRESS: at 40.06% examples, 101432 words/s, in_qsize 7, out_qsize 0\n",
      "2017-11-24 21:08:41,882 : INFO : PROGRESS: at 40.29% examples, 101445 words/s, in_qsize 7, out_qsize 0\n",
      "2017-11-24 21:08:43,001 : INFO : PROGRESS: at 40.52% examples, 101482 words/s, in_qsize 8, out_qsize 0\n",
      "2017-11-24 21:08:44,036 : INFO : PROGRESS: at 40.74% examples, 101526 words/s, in_qsize 8, out_qsize 0\n",
      "2017-11-24 21:08:45,141 : INFO : PROGRESS: at 40.98% examples, 101571 words/s, in_qsize 8, out_qsize 0\n",
      "2017-11-24 21:08:46,171 : INFO : PROGRESS: at 41.20% examples, 101619 words/s, in_qsize 7, out_qsize 0\n",
      "2017-11-24 21:08:47,377 : INFO : PROGRESS: at 41.43% examples, 101614 words/s, in_qsize 7, out_qsize 0\n",
      "2017-11-24 21:08:48,398 : INFO : PROGRESS: at 41.64% examples, 101662 words/s, in_qsize 7, out_qsize 0\n",
      "2017-11-24 21:08:49,408 : INFO : PROGRESS: at 41.84% examples, 101678 words/s, in_qsize 7, out_qsize 0\n",
      "2017-11-24 21:08:50,433 : INFO : PROGRESS: at 42.06% examples, 101723 words/s, in_qsize 7, out_qsize 0\n",
      "2017-11-24 21:08:51,501 : INFO : PROGRESS: at 42.24% examples, 101679 words/s, in_qsize 7, out_qsize 0\n",
      "2017-11-24 21:08:52,541 : INFO : PROGRESS: at 42.44% examples, 101683 words/s, in_qsize 7, out_qsize 0\n",
      "2017-11-24 21:08:53,568 : INFO : PROGRESS: at 42.64% examples, 101689 words/s, in_qsize 7, out_qsize 0\n",
      "2017-11-24 21:08:54,630 : INFO : PROGRESS: at 42.79% examples, 101579 words/s, in_qsize 7, out_qsize 0\n",
      "2017-11-24 21:08:55,710 : INFO : PROGRESS: at 42.99% examples, 101564 words/s, in_qsize 8, out_qsize 0\n",
      "2017-11-24 21:08:56,718 : INFO : PROGRESS: at 43.18% examples, 101547 words/s, in_qsize 6, out_qsize 1\n",
      "2017-11-24 21:08:57,748 : INFO : PROGRESS: at 43.40% examples, 101587 words/s, in_qsize 7, out_qsize 0\n",
      "2017-11-24 21:08:58,755 : INFO : PROGRESS: at 43.60% examples, 101605 words/s, in_qsize 7, out_qsize 0\n",
      "2017-11-24 21:08:59,791 : INFO : PROGRESS: at 43.82% examples, 101643 words/s, in_qsize 7, out_qsize 0\n",
      "2017-11-24 21:09:00,871 : INFO : PROGRESS: at 44.02% examples, 101626 words/s, in_qsize 7, out_qsize 0\n",
      "2017-11-24 21:09:02,021 : INFO : PROGRESS: at 44.25% examples, 101646 words/s, in_qsize 7, out_qsize 0\n",
      "2017-11-24 21:09:03,084 : INFO : PROGRESS: at 44.46% examples, 101672 words/s, in_qsize 7, out_qsize 0\n",
      "2017-11-24 21:09:04,129 : INFO : PROGRESS: at 44.67% examples, 101704 words/s, in_qsize 7, out_qsize 0\n",
      "2017-11-24 21:09:05,271 : INFO : PROGRESS: at 44.89% examples, 101694 words/s, in_qsize 8, out_qsize 0\n",
      "2017-11-24 21:09:06,355 : INFO : PROGRESS: at 45.10% examples, 101710 words/s, in_qsize 7, out_qsize 0\n",
      "2017-11-24 21:09:07,445 : INFO : PROGRESS: at 45.30% examples, 101660 words/s, in_qsize 7, out_qsize 0\n",
      "2017-11-24 21:09:08,508 : INFO : PROGRESS: at 45.50% examples, 101654 words/s, in_qsize 7, out_qsize 0\n",
      "2017-11-24 21:09:09,530 : INFO : PROGRESS: at 45.65% examples, 101567 words/s, in_qsize 6, out_qsize 1\n",
      "2017-11-24 21:09:10,610 : INFO : PROGRESS: at 45.87% examples, 101583 words/s, in_qsize 8, out_qsize 0\n",
      "2017-11-24 21:09:11,621 : INFO : PROGRESS: at 46.06% examples, 101598 words/s, in_qsize 6, out_qsize 1\n",
      "2017-11-24 21:09:12,637 : INFO : PROGRESS: at 46.27% examples, 101610 words/s, in_qsize 7, out_qsize 0\n",
      "2017-11-24 21:09:13,777 : INFO : PROGRESS: at 46.50% examples, 101634 words/s, in_qsize 7, out_qsize 0\n",
      "2017-11-24 21:09:14,786 : INFO : PROGRESS: at 46.71% examples, 101679 words/s, in_qsize 7, out_qsize 0\n",
      "2017-11-24 21:09:15,863 : INFO : PROGRESS: at 46.91% examples, 101667 words/s, in_qsize 7, out_qsize 0\n",
      "2017-11-24 21:09:16,876 : INFO : PROGRESS: at 47.14% examples, 101711 words/s, in_qsize 7, out_qsize 0\n",
      "2017-11-24 21:09:17,977 : INFO : PROGRESS: at 47.34% examples, 101688 words/s, in_qsize 8, out_qsize 0\n",
      "2017-11-24 21:09:19,002 : INFO : PROGRESS: at 47.55% examples, 101725 words/s, in_qsize 7, out_qsize 0\n",
      "2017-11-24 21:09:20,154 : INFO : PROGRESS: at 47.76% examples, 101710 words/s, in_qsize 7, out_qsize 0\n",
      "2017-11-24 21:09:21,172 : INFO : PROGRESS: at 47.96% examples, 101721 words/s, in_qsize 7, out_qsize 0\n",
      "2017-11-24 21:09:22,218 : INFO : PROGRESS: at 48.16% examples, 101720 words/s, in_qsize 7, out_qsize 0\n",
      "2017-11-24 21:09:23,243 : INFO : PROGRESS: at 48.36% examples, 101728 words/s, in_qsize 7, out_qsize 0\n",
      "2017-11-24 21:09:24,350 : INFO : PROGRESS: at 48.53% examples, 101644 words/s, in_qsize 7, out_qsize 0\n",
      "2017-11-24 21:09:25,354 : INFO : PROGRESS: at 48.72% examples, 101630 words/s, in_qsize 7, out_qsize 0\n",
      "2017-11-24 21:09:26,387 : INFO : PROGRESS: at 48.92% examples, 101634 words/s, in_qsize 7, out_qsize 0\n",
      "2017-11-24 21:09:27,548 : INFO : PROGRESS: at 49.14% examples, 101616 words/s, in_qsize 7, out_qsize 0\n",
      "2017-11-24 21:09:28,557 : INFO : PROGRESS: at 49.36% examples, 101659 words/s, in_qsize 8, out_qsize 0\n"
     ]
    },
    {
     "name": "stderr",
     "output_type": "stream",
     "text": [
      "2017-11-24 21:09:29,596 : INFO : PROGRESS: at 49.56% examples, 101662 words/s, in_qsize 7, out_qsize 0\n",
      "2017-11-24 21:09:30,714 : INFO : PROGRESS: at 49.77% examples, 101664 words/s, in_qsize 7, out_qsize 0\n",
      "2017-11-24 21:09:31,793 : INFO : PROGRESS: at 50.01% examples, 101709 words/s, in_qsize 7, out_qsize 0\n",
      "2017-11-24 21:09:32,983 : INFO : PROGRESS: at 50.24% examples, 101711 words/s, in_qsize 7, out_qsize 0\n",
      "2017-11-24 21:09:34,113 : INFO : PROGRESS: at 50.47% examples, 101735 words/s, in_qsize 7, out_qsize 0\n",
      "2017-11-24 21:09:35,239 : INFO : PROGRESS: at 50.69% examples, 101732 words/s, in_qsize 8, out_qsize 0\n",
      "2017-11-24 21:09:36,260 : INFO : PROGRESS: at 50.89% examples, 101740 words/s, in_qsize 7, out_qsize 0\n",
      "2017-11-24 21:09:37,278 : INFO : PROGRESS: at 51.10% examples, 101752 words/s, in_qsize 7, out_qsize 0\n",
      "2017-11-24 21:09:38,324 : INFO : PROGRESS: at 51.29% examples, 101723 words/s, in_qsize 7, out_qsize 0\n",
      "2017-11-24 21:09:39,372 : INFO : PROGRESS: at 51.47% examples, 101665 words/s, in_qsize 7, out_qsize 0\n",
      "2017-11-24 21:09:40,452 : INFO : PROGRESS: at 51.69% examples, 101680 words/s, in_qsize 8, out_qsize 0\n",
      "2017-11-24 21:09:41,473 : INFO : PROGRESS: at 51.89% examples, 101688 words/s, in_qsize 8, out_qsize 0\n",
      "2017-11-24 21:09:42,626 : INFO : PROGRESS: at 52.12% examples, 101704 words/s, in_qsize 8, out_qsize 0\n",
      "2017-11-24 21:09:43,775 : INFO : PROGRESS: at 52.35% examples, 101723 words/s, in_qsize 5, out_qsize 2\n",
      "2017-11-24 21:09:44,855 : INFO : PROGRESS: at 52.58% examples, 101765 words/s, in_qsize 7, out_qsize 0\n",
      "2017-11-24 21:09:45,987 : INFO : PROGRESS: at 52.82% examples, 101788 words/s, in_qsize 8, out_qsize 0\n",
      "2017-11-24 21:09:47,059 : INFO : PROGRESS: at 53.04% examples, 101832 words/s, in_qsize 7, out_qsize 0\n",
      "2017-11-24 21:09:48,062 : INFO : PROGRESS: at 53.27% examples, 101874 words/s, in_qsize 7, out_qsize 0\n",
      "2017-11-24 21:09:49,176 : INFO : PROGRESS: at 53.48% examples, 101876 words/s, in_qsize 7, out_qsize 0\n",
      "2017-11-24 21:09:50,196 : INFO : PROGRESS: at 53.70% examples, 101912 words/s, in_qsize 7, out_qsize 0\n",
      "2017-11-24 21:09:51,236 : INFO : PROGRESS: at 53.89% examples, 101886 words/s, in_qsize 7, out_qsize 0\n",
      "2017-11-24 21:09:52,380 : INFO : PROGRESS: at 54.11% examples, 101877 words/s, in_qsize 7, out_qsize 0\n",
      "2017-11-24 21:09:53,426 : INFO : PROGRESS: at 54.34% examples, 101904 words/s, in_qsize 7, out_qsize 0\n",
      "2017-11-24 21:09:54,452 : INFO : PROGRESS: at 54.51% examples, 101855 words/s, in_qsize 7, out_qsize 0\n",
      "2017-11-24 21:09:55,516 : INFO : PROGRESS: at 54.70% examples, 101822 words/s, in_qsize 7, out_qsize 0\n",
      "2017-11-24 21:09:56,629 : INFO : PROGRESS: at 54.93% examples, 101851 words/s, in_qsize 7, out_qsize 0\n",
      "2017-11-24 21:09:57,666 : INFO : PROGRESS: at 55.15% examples, 101879 words/s, in_qsize 7, out_qsize 0\n",
      "2017-11-24 21:09:58,821 : INFO : PROGRESS: at 55.39% examples, 101894 words/s, in_qsize 7, out_qsize 0\n",
      "2017-11-24 21:09:59,891 : INFO : PROGRESS: at 55.61% examples, 101910 words/s, in_qsize 7, out_qsize 0\n",
      "2017-11-24 21:10:00,916 : INFO : PROGRESS: at 55.81% examples, 101916 words/s, in_qsize 6, out_qsize 1\n",
      "2017-11-24 21:10:01,989 : INFO : PROGRESS: at 56.01% examples, 101936 words/s, in_qsize 7, out_qsize 0\n",
      "2017-11-24 21:10:03,028 : INFO : PROGRESS: at 56.22% examples, 101962 words/s, in_qsize 7, out_qsize 0\n",
      "2017-11-24 21:10:04,181 : INFO : PROGRESS: at 56.44% examples, 101949 words/s, in_qsize 6, out_qsize 1\n",
      "2017-11-24 21:10:05,346 : INFO : PROGRESS: at 56.67% examples, 101957 words/s, in_qsize 6, out_qsize 1\n",
      "2017-11-24 21:10:06,571 : INFO : PROGRESS: at 56.91% examples, 101946 words/s, in_qsize 6, out_qsize 1\n",
      "2017-11-24 21:10:07,689 : INFO : PROGRESS: at 57.15% examples, 101972 words/s, in_qsize 8, out_qsize 0\n",
      "2017-11-24 21:10:08,727 : INFO : PROGRESS: at 57.35% examples, 101972 words/s, in_qsize 7, out_qsize 0\n",
      "2017-11-24 21:10:09,747 : INFO : PROGRESS: at 57.54% examples, 101928 words/s, in_qsize 7, out_qsize 0\n",
      "2017-11-24 21:10:10,795 : INFO : PROGRESS: at 57.74% examples, 101925 words/s, in_qsize 8, out_qsize 0\n",
      "2017-11-24 21:10:11,891 : INFO : PROGRESS: at 57.95% examples, 101930 words/s, in_qsize 7, out_qsize 0\n",
      "2017-11-24 21:10:12,937 : INFO : PROGRESS: at 58.17% examples, 101954 words/s, in_qsize 7, out_qsize 0\n",
      "2017-11-24 21:10:14,031 : INFO : PROGRESS: at 58.41% examples, 101987 words/s, in_qsize 8, out_qsize 0\n",
      "2017-11-24 21:10:15,138 : INFO : PROGRESS: at 58.64% examples, 102015 words/s, in_qsize 7, out_qsize 0\n",
      "2017-11-24 21:10:16,221 : INFO : PROGRESS: at 58.88% examples, 102051 words/s, in_qsize 7, out_qsize 0\n",
      "2017-11-24 21:10:17,280 : INFO : PROGRESS: at 59.08% examples, 102043 words/s, in_qsize 6, out_qsize 1\n",
      "2017-11-24 21:10:18,385 : INFO : PROGRESS: at 59.31% examples, 102070 words/s, in_qsize 8, out_qsize 1\n",
      "2017-11-24 21:10:19,487 : INFO : PROGRESS: at 59.55% examples, 102099 words/s, in_qsize 8, out_qsize 0\n",
      "2017-11-24 21:10:20,493 : INFO : PROGRESS: at 59.77% examples, 102134 words/s, in_qsize 7, out_qsize 0\n",
      "2017-11-24 21:10:21,592 : INFO : PROGRESS: at 59.96% examples, 102090 words/s, in_qsize 7, out_qsize 0\n",
      "2017-11-24 21:10:22,651 : INFO : PROGRESS: at 60.18% examples, 102108 words/s, in_qsize 7, out_qsize 0\n",
      "2017-11-24 21:10:23,684 : INFO : PROGRESS: at 60.38% examples, 102112 words/s, in_qsize 7, out_qsize 0\n",
      "2017-11-24 21:10:24,686 : INFO : PROGRESS: at 60.53% examples, 102051 words/s, in_qsize 8, out_qsize 0\n",
      "2017-11-24 21:10:25,767 : INFO : PROGRESS: at 60.76% examples, 102064 words/s, in_qsize 7, out_qsize 0\n",
      "2017-11-24 21:10:26,850 : INFO : PROGRESS: at 60.99% examples, 102099 words/s, in_qsize 7, out_qsize 0\n",
      "2017-11-24 21:10:27,892 : INFO : PROGRESS: at 61.18% examples, 102076 words/s, in_qsize 7, out_qsize 0\n",
      "2017-11-24 21:10:29,002 : INFO : PROGRESS: at 61.40% examples, 102079 words/s, in_qsize 8, out_qsize 0\n",
      "2017-11-24 21:10:30,023 : INFO : PROGRESS: at 61.57% examples, 102037 words/s, in_qsize 7, out_qsize 0\n",
      "2017-11-24 21:10:31,145 : INFO : PROGRESS: at 61.70% examples, 101892 words/s, in_qsize 7, out_qsize 0\n",
      "2017-11-24 21:10:32,223 : INFO : PROGRESS: at 61.87% examples, 101833 words/s, in_qsize 7, out_qsize 0\n",
      "2017-11-24 21:10:33,235 : INFO : PROGRESS: at 62.06% examples, 101820 words/s, in_qsize 7, out_qsize 0\n",
      "2017-11-24 21:10:34,354 : INFO : PROGRESS: at 62.26% examples, 101797 words/s, in_qsize 7, out_qsize 0\n",
      "2017-11-24 21:10:35,466 : INFO : PROGRESS: at 62.44% examples, 101752 words/s, in_qsize 7, out_qsize 0\n",
      "2017-11-24 21:10:36,529 : INFO : PROGRESS: at 62.61% examples, 101697 words/s, in_qsize 7, out_qsize 0\n",
      "2017-11-24 21:10:37,607 : INFO : PROGRESS: at 62.78% examples, 101640 words/s, in_qsize 7, out_qsize 0\n",
      "2017-11-24 21:10:38,666 : INFO : PROGRESS: at 62.97% examples, 101613 words/s, in_qsize 7, out_qsize 0\n",
      "2017-11-24 21:10:39,832 : INFO : PROGRESS: at 63.14% examples, 101530 words/s, in_qsize 7, out_qsize 0\n",
      "2017-11-24 21:10:40,917 : INFO : PROGRESS: at 63.35% examples, 101540 words/s, in_qsize 8, out_qsize 0\n",
      "2017-11-24 21:10:41,969 : INFO : PROGRESS: at 63.55% examples, 101539 words/s, in_qsize 7, out_qsize 0\n",
      "2017-11-24 21:10:43,110 : INFO : PROGRESS: at 63.79% examples, 101556 words/s, in_qsize 7, out_qsize 0\n",
      "2017-11-24 21:10:44,116 : INFO : PROGRESS: at 63.99% examples, 101568 words/s, in_qsize 8, out_qsize 0\n",
      "2017-11-24 21:10:45,240 : INFO : PROGRESS: at 64.21% examples, 101567 words/s, in_qsize 7, out_qsize 0\n",
      "2017-11-24 21:10:46,262 : INFO : PROGRESS: at 64.39% examples, 101553 words/s, in_qsize 7, out_qsize 0\n",
      "2017-11-24 21:10:47,310 : INFO : PROGRESS: at 64.60% examples, 101575 words/s, in_qsize 8, out_qsize 0\n",
      "2017-11-24 21:10:48,384 : INFO : PROGRESS: at 64.82% examples, 101589 words/s, in_qsize 7, out_qsize 0\n",
      "2017-11-24 21:10:49,409 : INFO : PROGRESS: at 65.03% examples, 101618 words/s, in_qsize 8, out_qsize 0\n",
      "2017-11-24 21:10:50,430 : INFO : PROGRESS: at 65.22% examples, 101604 words/s, in_qsize 7, out_qsize 0\n",
      "2017-11-24 21:10:51,447 : INFO : PROGRESS: at 65.41% examples, 101591 words/s, in_qsize 7, out_qsize 0\n",
      "2017-11-24 21:10:52,474 : INFO : PROGRESS: at 65.61% examples, 101596 words/s, in_qsize 7, out_qsize 0\n",
      "2017-11-24 21:10:53,528 : INFO : PROGRESS: at 65.81% examples, 101594 words/s, in_qsize 7, out_qsize 0\n",
      "2017-11-24 21:10:54,575 : INFO : PROGRESS: at 65.98% examples, 101548 words/s, in_qsize 7, out_qsize 0\n"
     ]
    },
    {
     "name": "stderr",
     "output_type": "stream",
     "text": [
      "2017-11-24 21:10:55,609 : INFO : PROGRESS: at 66.16% examples, 101528 words/s, in_qsize 8, out_qsize 0\n",
      "2017-11-24 21:10:56,776 : INFO : PROGRESS: at 66.39% examples, 101536 words/s, in_qsize 6, out_qsize 1\n",
      "2017-11-24 21:10:57,903 : INFO : PROGRESS: at 66.62% examples, 101556 words/s, in_qsize 7, out_qsize 0\n",
      "2017-11-24 21:10:58,980 : INFO : PROGRESS: at 66.85% examples, 101591 words/s, in_qsize 7, out_qsize 0\n",
      "2017-11-24 21:10:59,988 : INFO : PROGRESS: at 67.06% examples, 101602 words/s, in_qsize 6, out_qsize 1\n",
      "2017-11-24 21:11:01,072 : INFO : PROGRESS: at 67.28% examples, 101612 words/s, in_qsize 7, out_qsize 0\n",
      "2017-11-24 21:11:02,208 : INFO : PROGRESS: at 67.51% examples, 101629 words/s, in_qsize 8, out_qsize 0\n",
      "2017-11-24 21:11:03,323 : INFO : PROGRESS: at 67.73% examples, 101651 words/s, in_qsize 7, out_qsize 0\n",
      "2017-11-24 21:11:04,331 : INFO : PROGRESS: at 67.94% examples, 101684 words/s, in_qsize 7, out_qsize 0\n",
      "2017-11-24 21:11:05,399 : INFO : PROGRESS: at 68.14% examples, 101677 words/s, in_qsize 7, out_qsize 0\n",
      "2017-11-24 21:11:06,425 : INFO : PROGRESS: at 68.33% examples, 101661 words/s, in_qsize 7, out_qsize 0\n",
      "2017-11-24 21:11:07,612 : INFO : PROGRESS: at 68.55% examples, 101643 words/s, in_qsize 8, out_qsize 0\n",
      "2017-11-24 21:11:08,635 : INFO : PROGRESS: at 68.76% examples, 101670 words/s, in_qsize 7, out_qsize 0\n",
      "2017-11-24 21:11:09,644 : INFO : PROGRESS: at 68.93% examples, 101637 words/s, in_qsize 7, out_qsize 0\n",
      "2017-11-24 21:11:10,646 : INFO : PROGRESS: at 69.13% examples, 101627 words/s, in_qsize 7, out_qsize 0\n",
      "2017-11-24 21:11:11,730 : INFO : PROGRESS: at 69.36% examples, 101657 words/s, in_qsize 7, out_qsize 0\n",
      "2017-11-24 21:11:12,779 : INFO : PROGRESS: at 69.56% examples, 101656 words/s, in_qsize 7, out_qsize 0\n",
      "2017-11-24 21:11:13,877 : INFO : PROGRESS: at 69.79% examples, 101685 words/s, in_qsize 8, out_qsize 0\n",
      "2017-11-24 21:11:15,021 : INFO : PROGRESS: at 70.02% examples, 101699 words/s, in_qsize 7, out_qsize 0\n",
      "2017-11-24 21:11:16,047 : INFO : PROGRESS: at 70.25% examples, 101746 words/s, in_qsize 7, out_qsize 0\n",
      "2017-11-24 21:11:17,051 : INFO : PROGRESS: at 70.44% examples, 101736 words/s, in_qsize 7, out_qsize 0\n",
      "2017-11-24 21:11:18,156 : INFO : PROGRESS: at 70.67% examples, 101761 words/s, in_qsize 6, out_qsize 1\n",
      "2017-11-24 21:11:19,295 : INFO : PROGRESS: at 70.90% examples, 101776 words/s, in_qsize 8, out_qsize 0\n",
      "2017-11-24 21:11:20,452 : INFO : PROGRESS: at 71.14% examples, 101787 words/s, in_qsize 7, out_qsize 0\n",
      "2017-11-24 21:11:21,486 : INFO : PROGRESS: at 71.35% examples, 101790 words/s, in_qsize 7, out_qsize 0\n",
      "2017-11-24 21:11:22,486 : INFO : PROGRESS: at 71.56% examples, 101803 words/s, in_qsize 8, out_qsize 0\n",
      "2017-11-24 21:11:23,498 : INFO : PROGRESS: at 71.76% examples, 101812 words/s, in_qsize 7, out_qsize 0\n",
      "2017-11-24 21:11:24,524 : INFO : PROGRESS: at 71.92% examples, 101755 words/s, in_qsize 8, out_qsize 0\n",
      "2017-11-24 21:11:25,631 : INFO : PROGRESS: at 72.14% examples, 101759 words/s, in_qsize 7, out_qsize 0\n",
      "2017-11-24 21:11:26,795 : INFO : PROGRESS: at 72.37% examples, 101768 words/s, in_qsize 7, out_qsize 0\n",
      "2017-11-24 21:11:27,907 : INFO : PROGRESS: at 72.60% examples, 101789 words/s, in_qsize 7, out_qsize 0\n",
      "2017-11-24 21:11:29,076 : INFO : PROGRESS: at 72.83% examples, 101795 words/s, in_qsize 8, out_qsize 0\n",
      "2017-11-24 21:11:30,162 : INFO : PROGRESS: at 73.06% examples, 101824 words/s, in_qsize 8, out_qsize 0\n",
      "2017-11-24 21:11:31,167 : INFO : PROGRESS: at 73.28% examples, 101854 words/s, in_qsize 8, out_qsize 0\n",
      "2017-11-24 21:11:32,346 : INFO : PROGRESS: at 73.51% examples, 101859 words/s, in_qsize 7, out_qsize 0\n",
      "2017-11-24 21:11:33,488 : INFO : PROGRESS: at 73.75% examples, 101871 words/s, in_qsize 8, out_qsize 1\n",
      "2017-11-24 21:11:34,591 : INFO : PROGRESS: at 73.98% examples, 101896 words/s, in_qsize 7, out_qsize 0\n",
      "2017-11-24 21:11:35,799 : INFO : PROGRESS: at 74.22% examples, 101891 words/s, in_qsize 7, out_qsize 0\n",
      "2017-11-24 21:11:36,975 : INFO : PROGRESS: at 74.45% examples, 101896 words/s, in_qsize 7, out_qsize 0\n",
      "2017-11-24 21:11:38,110 : INFO : PROGRESS: at 74.69% examples, 101911 words/s, in_qsize 8, out_qsize 0\n",
      "2017-11-24 21:11:39,111 : INFO : PROGRESS: at 74.89% examples, 101922 words/s, in_qsize 7, out_qsize 0\n",
      "2017-11-24 21:11:40,264 : INFO : PROGRESS: at 75.08% examples, 101873 words/s, in_qsize 7, out_qsize 0\n",
      "2017-11-24 21:11:41,390 : INFO : PROGRESS: at 75.32% examples, 101890 words/s, in_qsize 8, out_qsize 0\n",
      "2017-11-24 21:11:42,556 : INFO : PROGRESS: at 75.55% examples, 101897 words/s, in_qsize 7, out_qsize 0\n",
      "2017-11-24 21:11:43,667 : INFO : PROGRESS: at 75.78% examples, 101918 words/s, in_qsize 7, out_qsize 0\n",
      "2017-11-24 21:11:44,855 : INFO : PROGRESS: at 76.00% examples, 101923 words/s, in_qsize 6, out_qsize 1\n",
      "2017-11-24 21:11:45,871 : INFO : PROGRESS: at 76.21% examples, 101948 words/s, in_qsize 7, out_qsize 0\n",
      "2017-11-24 21:11:46,903 : INFO : PROGRESS: at 76.44% examples, 101988 words/s, in_qsize 7, out_qsize 0\n",
      "2017-11-24 21:11:47,954 : INFO : PROGRESS: at 76.64% examples, 101985 words/s, in_qsize 7, out_qsize 0\n",
      "2017-11-24 21:11:49,073 : INFO : PROGRESS: at 76.88% examples, 102005 words/s, in_qsize 7, out_qsize 0\n",
      "2017-11-24 21:11:50,180 : INFO : PROGRESS: at 77.12% examples, 102026 words/s, in_qsize 7, out_qsize 0\n",
      "2017-11-24 21:11:51,201 : INFO : PROGRESS: at 77.31% examples, 102011 words/s, in_qsize 7, out_qsize 0\n",
      "2017-11-24 21:11:52,233 : INFO : PROGRESS: at 77.52% examples, 102013 words/s, in_qsize 7, out_qsize 0\n",
      "2017-11-24 21:11:53,287 : INFO : PROGRESS: at 77.72% examples, 102010 words/s, in_qsize 7, out_qsize 0\n",
      "2017-11-24 21:11:54,313 : INFO : PROGRESS: at 77.91% examples, 101994 words/s, in_qsize 7, out_qsize 0\n",
      "2017-11-24 21:11:55,417 : INFO : PROGRESS: at 78.10% examples, 101958 words/s, in_qsize 8, out_qsize 0\n",
      "2017-11-24 21:11:56,579 : INFO : PROGRESS: at 78.33% examples, 101966 words/s, in_qsize 7, out_qsize 0\n",
      "2017-11-24 21:11:57,669 : INFO : PROGRESS: at 78.56% examples, 101972 words/s, in_qsize 7, out_qsize 0\n",
      "2017-11-24 21:11:58,704 : INFO : PROGRESS: at 78.78% examples, 101992 words/s, in_qsize 7, out_qsize 0\n",
      "2017-11-24 21:11:59,729 : INFO : PROGRESS: at 78.98% examples, 101996 words/s, in_qsize 7, out_qsize 0\n",
      "2017-11-24 21:12:00,827 : INFO : PROGRESS: at 79.19% examples, 101999 words/s, in_qsize 7, out_qsize 0\n",
      "2017-11-24 21:12:02,016 : INFO : PROGRESS: at 79.43% examples, 102000 words/s, in_qsize 7, out_qsize 0\n",
      "2017-11-24 21:12:03,017 : INFO : PROGRESS: at 79.65% examples, 102028 words/s, in_qsize 7, out_qsize 0\n",
      "2017-11-24 21:12:04,104 : INFO : PROGRESS: at 79.87% examples, 102034 words/s, in_qsize 7, out_qsize 0\n",
      "2017-11-24 21:12:05,105 : INFO : PROGRESS: at 80.07% examples, 102044 words/s, in_qsize 8, out_qsize 0\n",
      "2017-11-24 21:12:06,131 : INFO : PROGRESS: at 80.25% examples, 102011 words/s, in_qsize 7, out_qsize 0\n",
      "2017-11-24 21:12:07,163 : INFO : PROGRESS: at 80.45% examples, 102014 words/s, in_qsize 7, out_qsize 0\n",
      "2017-11-24 21:12:08,219 : INFO : PROGRESS: at 80.65% examples, 102011 words/s, in_qsize 7, out_qsize 0\n",
      "2017-11-24 21:12:09,362 : INFO : PROGRESS: at 80.83% examples, 101952 words/s, in_qsize 7, out_qsize 0\n",
      "2017-11-24 21:12:10,381 : INFO : PROGRESS: at 81.03% examples, 101958 words/s, in_qsize 8, out_qsize 0\n",
      "2017-11-24 21:12:11,449 : INFO : PROGRESS: at 81.24% examples, 101954 words/s, in_qsize 6, out_qsize 1\n",
      "2017-11-24 21:12:12,473 : INFO : PROGRESS: at 81.44% examples, 101959 words/s, in_qsize 8, out_qsize 0\n",
      "2017-11-24 21:12:13,495 : INFO : PROGRESS: at 81.64% examples, 101964 words/s, in_qsize 6, out_qsize 1\n",
      "2017-11-24 21:12:14,609 : INFO : PROGRESS: at 81.86% examples, 101965 words/s, in_qsize 7, out_qsize 0\n",
      "2017-11-24 21:12:15,723 : INFO : PROGRESS: at 82.09% examples, 101985 words/s, in_qsize 8, out_qsize 0\n",
      "2017-11-24 21:12:16,755 : INFO : PROGRESS: at 82.27% examples, 101969 words/s, in_qsize 7, out_qsize 0\n",
      "2017-11-24 21:12:17,868 : INFO : PROGRESS: at 82.50% examples, 101987 words/s, in_qsize 7, out_qsize 0\n",
      "2017-11-24 21:12:19,001 : INFO : PROGRESS: at 82.72% examples, 102001 words/s, in_qsize 7, out_qsize 0\n",
      "2017-11-24 21:12:20,048 : INFO : PROGRESS: at 82.94% examples, 102018 words/s, in_qsize 7, out_qsize 0\n",
      "2017-11-24 21:12:21,218 : INFO : PROGRESS: at 83.13% examples, 101970 words/s, in_qsize 7, out_qsize 1\n"
     ]
    },
    {
     "name": "stderr",
     "output_type": "stream",
     "text": [
      "2017-11-24 21:12:22,236 : INFO : PROGRESS: at 83.34% examples, 101993 words/s, in_qsize 7, out_qsize 0\n",
      "2017-11-24 21:12:23,327 : INFO : PROGRESS: at 83.53% examples, 101964 words/s, in_qsize 7, out_qsize 0\n",
      "2017-11-24 21:12:24,458 : INFO : PROGRESS: at 83.70% examples, 101907 words/s, in_qsize 7, out_qsize 0\n",
      "2017-11-24 21:12:25,471 : INFO : PROGRESS: at 83.89% examples, 101897 words/s, in_qsize 7, out_qsize 0\n",
      "2017-11-24 21:12:26,577 : INFO : PROGRESS: at 84.09% examples, 101881 words/s, in_qsize 8, out_qsize 0\n",
      "2017-11-24 21:12:27,585 : INFO : PROGRESS: at 84.29% examples, 101890 words/s, in_qsize 7, out_qsize 0\n",
      "2017-11-24 21:12:28,598 : INFO : PROGRESS: at 84.48% examples, 101880 words/s, in_qsize 7, out_qsize 0\n",
      "2017-11-24 21:12:29,619 : INFO : PROGRESS: at 84.67% examples, 101885 words/s, in_qsize 7, out_qsize 0\n",
      "2017-11-24 21:12:30,638 : INFO : PROGRESS: at 84.87% examples, 101890 words/s, in_qsize 7, out_qsize 0\n",
      "2017-11-24 21:12:31,726 : INFO : PROGRESS: at 85.06% examples, 101863 words/s, in_qsize 5, out_qsize 2\n",
      "2017-11-24 21:12:32,870 : INFO : PROGRESS: at 85.30% examples, 101876 words/s, in_qsize 6, out_qsize 1\n",
      "2017-11-24 21:12:33,997 : INFO : PROGRESS: at 85.52% examples, 101891 words/s, in_qsize 7, out_qsize 0\n",
      "2017-11-24 21:12:35,109 : INFO : PROGRESS: at 85.75% examples, 101909 words/s, in_qsize 8, out_qsize 0\n",
      "2017-11-24 21:12:36,125 : INFO : PROGRESS: at 85.94% examples, 101897 words/s, in_qsize 7, out_qsize 0\n",
      "2017-11-24 21:12:37,164 : INFO : PROGRESS: at 86.12% examples, 101880 words/s, in_qsize 7, out_qsize 0\n",
      "2017-11-24 21:12:38,301 : INFO : PROGRESS: at 86.34% examples, 101876 words/s, in_qsize 7, out_qsize 0\n",
      "2017-11-24 21:12:39,334 : INFO : PROGRESS: at 86.51% examples, 101844 words/s, in_qsize 7, out_qsize 0\n",
      "2017-11-24 21:12:40,366 : INFO : PROGRESS: at 86.71% examples, 101846 words/s, in_qsize 7, out_qsize 0\n",
      "2017-11-24 21:12:41,371 : INFO : PROGRESS: at 86.90% examples, 101838 words/s, in_qsize 7, out_qsize 0\n",
      "2017-11-24 21:12:42,371 : INFO : PROGRESS: at 87.11% examples, 101849 words/s, in_qsize 8, out_qsize 0\n",
      "2017-11-24 21:12:43,392 : INFO : PROGRESS: at 87.33% examples, 101870 words/s, in_qsize 7, out_qsize 0\n",
      "2017-11-24 21:12:44,459 : INFO : PROGRESS: at 87.52% examples, 101864 words/s, in_qsize 6, out_qsize 1\n",
      "2017-11-24 21:12:45,460 : INFO : PROGRESS: at 87.65% examples, 101789 words/s, in_qsize 7, out_qsize 0\n",
      "2017-11-24 21:12:46,465 : INFO : PROGRESS: at 87.81% examples, 101748 words/s, in_qsize 7, out_qsize 0\n",
      "2017-11-24 21:12:47,566 : INFO : PROGRESS: at 87.92% examples, 101634 words/s, in_qsize 7, out_qsize 0\n",
      "2017-11-24 21:12:48,767 : INFO : PROGRESS: at 88.01% examples, 101483 words/s, in_qsize 7, out_qsize 0\n",
      "2017-11-24 21:12:49,808 : INFO : PROGRESS: at 88.19% examples, 101451 words/s, in_qsize 7, out_qsize 0\n",
      "2017-11-24 21:12:50,971 : INFO : PROGRESS: at 88.36% examples, 101392 words/s, in_qsize 7, out_qsize 0\n",
      "2017-11-24 21:12:51,972 : INFO : PROGRESS: at 88.56% examples, 101403 words/s, in_qsize 8, out_qsize 0\n",
      "2017-11-24 21:12:52,991 : INFO : PROGRESS: at 88.72% examples, 101360 words/s, in_qsize 8, out_qsize 0\n",
      "2017-11-24 21:12:54,021 : INFO : PROGRESS: at 88.82% examples, 101249 words/s, in_qsize 8, out_qsize 0\n",
      "2017-11-24 21:12:55,195 : INFO : PROGRESS: at 88.92% examples, 101106 words/s, in_qsize 7, out_qsize 0\n",
      "2017-11-24 21:12:56,406 : INFO : PROGRESS: at 89.04% examples, 100972 words/s, in_qsize 7, out_qsize 0\n",
      "2017-11-24 21:12:57,562 : INFO : PROGRESS: at 89.16% examples, 100850 words/s, in_qsize 7, out_qsize 0\n",
      "2017-11-24 21:12:58,567 : INFO : PROGRESS: at 89.34% examples, 100844 words/s, in_qsize 7, out_qsize 0\n",
      "2017-11-24 21:12:59,579 : INFO : PROGRESS: at 89.51% examples, 100820 words/s, in_qsize 7, out_qsize 0\n",
      "2017-11-24 21:13:00,621 : INFO : PROGRESS: at 89.68% examples, 100791 words/s, in_qsize 7, out_qsize 0\n",
      "2017-11-24 21:13:01,782 : INFO : PROGRESS: at 89.92% examples, 100800 words/s, in_qsize 6, out_qsize 1\n",
      "2017-11-24 21:13:02,791 : INFO : PROGRESS: at 90.19% examples, 100891 words/s, in_qsize 7, out_qsize 0\n",
      "2017-11-24 21:13:03,798 : INFO : PROGRESS: at 90.45% examples, 100965 words/s, in_qsize 7, out_qsize 0\n",
      "2017-11-24 21:13:04,836 : INFO : PROGRESS: at 90.69% examples, 101000 words/s, in_qsize 7, out_qsize 0\n",
      "2017-11-24 21:13:05,935 : INFO : PROGRESS: at 90.90% examples, 101006 words/s, in_qsize 7, out_qsize 0\n",
      "2017-11-24 21:13:07,017 : INFO : PROGRESS: at 91.10% examples, 100984 words/s, in_qsize 7, out_qsize 0\n",
      "2017-11-24 21:13:08,178 : INFO : PROGRESS: at 91.40% examples, 101058 words/s, in_qsize 8, out_qsize 0\n",
      "2017-11-24 21:13:09,300 : INFO : PROGRESS: at 91.63% examples, 101074 words/s, in_qsize 7, out_qsize 0\n",
      "2017-11-24 21:13:10,346 : INFO : PROGRESS: at 91.86% examples, 101107 words/s, in_qsize 6, out_qsize 1\n",
      "2017-11-24 21:13:11,372 : INFO : PROGRESS: at 92.14% examples, 101192 words/s, in_qsize 8, out_qsize 0\n",
      "2017-11-24 21:13:12,405 : INFO : PROGRESS: at 92.35% examples, 101211 words/s, in_qsize 7, out_qsize 0\n",
      "2017-11-24 21:13:13,531 : INFO : PROGRESS: at 92.60% examples, 101243 words/s, in_qsize 7, out_qsize 0\n",
      "2017-11-24 21:13:14,542 : INFO : PROGRESS: at 92.83% examples, 101283 words/s, in_qsize 6, out_qsize 1\n",
      "2017-11-24 21:13:15,548 : INFO : PROGRESS: at 93.02% examples, 101275 words/s, in_qsize 7, out_qsize 0\n",
      "2017-11-24 21:13:16,584 : INFO : PROGRESS: at 93.24% examples, 101294 words/s, in_qsize 8, out_qsize 0\n",
      "2017-11-24 21:13:17,635 : INFO : PROGRESS: at 93.47% examples, 101325 words/s, in_qsize 8, out_qsize 0\n",
      "2017-11-24 21:13:18,661 : INFO : PROGRESS: at 93.69% examples, 101345 words/s, in_qsize 8, out_qsize 0\n",
      "2017-11-24 21:13:19,699 : INFO : PROGRESS: at 93.88% examples, 101332 words/s, in_qsize 6, out_qsize 1\n",
      "2017-11-24 21:13:20,717 : INFO : PROGRESS: at 94.06% examples, 101308 words/s, in_qsize 7, out_qsize 0\n",
      "2017-11-24 21:13:21,838 : INFO : PROGRESS: at 94.29% examples, 101324 words/s, in_qsize 7, out_qsize 0\n",
      "2017-11-24 21:13:22,850 : INFO : PROGRESS: at 94.52% examples, 101362 words/s, in_qsize 7, out_qsize 0\n",
      "2017-11-24 21:13:23,927 : INFO : PROGRESS: at 94.70% examples, 101325 words/s, in_qsize 8, out_qsize 0\n",
      "2017-11-24 21:13:25,064 : INFO : PROGRESS: at 94.93% examples, 101339 words/s, in_qsize 6, out_qsize 1\n",
      "2017-11-24 21:13:26,088 : INFO : PROGRESS: at 95.21% examples, 101421 words/s, in_qsize 7, out_qsize 0\n",
      "2017-11-24 21:13:27,145 : INFO : PROGRESS: at 95.48% examples, 101481 words/s, in_qsize 7, out_qsize 0\n",
      "2017-11-24 21:13:28,285 : INFO : PROGRESS: at 95.75% examples, 101538 words/s, in_qsize 7, out_qsize 0\n",
      "2017-11-24 21:13:29,298 : INFO : PROGRESS: at 95.95% examples, 101563 words/s, in_qsize 8, out_qsize 0\n",
      "2017-11-24 21:13:30,444 : INFO : PROGRESS: at 96.14% examples, 101526 words/s, in_qsize 7, out_qsize 0\n",
      "2017-11-24 21:13:31,578 : INFO : PROGRESS: at 96.29% examples, 101463 words/s, in_qsize 7, out_qsize 0\n",
      "2017-11-24 21:13:32,658 : INFO : PROGRESS: at 96.44% examples, 101395 words/s, in_qsize 7, out_qsize 0\n",
      "2017-11-24 21:13:33,747 : INFO : PROGRESS: at 96.60% examples, 101341 words/s, in_qsize 8, out_qsize 0\n",
      "2017-11-24 21:13:34,943 : INFO : PROGRESS: at 96.80% examples, 101311 words/s, in_qsize 7, out_qsize 1\n",
      "2017-11-24 21:13:35,974 : INFO : PROGRESS: at 96.97% examples, 101269 words/s, in_qsize 7, out_qsize 0\n",
      "2017-11-24 21:13:37,138 : INFO : PROGRESS: at 97.17% examples, 101231 words/s, in_qsize 7, out_qsize 0\n",
      "2017-11-24 21:13:38,234 : INFO : PROGRESS: at 97.32% examples, 101176 words/s, in_qsize 7, out_qsize 0\n",
      "2017-11-24 21:13:39,305 : INFO : PROGRESS: at 97.47% examples, 101111 words/s, in_qsize 7, out_qsize 0\n",
      "2017-11-24 21:13:40,415 : INFO : PROGRESS: at 97.65% examples, 101069 words/s, in_qsize 8, out_qsize 0\n",
      "2017-11-24 21:13:41,480 : INFO : PROGRESS: at 97.85% examples, 101065 words/s, in_qsize 7, out_qsize 0\n",
      "2017-11-24 21:13:42,483 : INFO : PROGRESS: at 98.04% examples, 101060 words/s, in_qsize 7, out_qsize 0\n",
      "2017-11-24 21:13:43,510 : INFO : PROGRESS: at 98.19% examples, 101005 words/s, in_qsize 7, out_qsize 0\n",
      "2017-11-24 21:13:44,530 : INFO : PROGRESS: at 98.44% examples, 101056 words/s, in_qsize 8, out_qsize 0\n",
      "2017-11-24 21:13:45,610 : INFO : PROGRESS: at 98.57% examples, 100976 words/s, in_qsize 7, out_qsize 0\n",
      "2017-11-24 21:13:46,639 : INFO : PROGRESS: at 98.76% examples, 100966 words/s, in_qsize 8, out_qsize 0\n"
     ]
    },
    {
     "name": "stderr",
     "output_type": "stream",
     "text": [
      "2017-11-24 21:13:47,762 : INFO : PROGRESS: at 98.95% examples, 100936 words/s, in_qsize 8, out_qsize 0\n",
      "2017-11-24 21:13:48,846 : INFO : PROGRESS: at 99.13% examples, 100900 words/s, in_qsize 7, out_qsize 0\n",
      "2017-11-24 21:13:49,851 : INFO : PROGRESS: at 99.24% examples, 100821 words/s, in_qsize 7, out_qsize 0\n",
      "2017-11-24 21:13:50,856 : INFO : PROGRESS: at 99.39% examples, 100772 words/s, in_qsize 6, out_qsize 1\n",
      "2017-11-24 21:13:51,865 : INFO : PROGRESS: at 99.58% examples, 100766 words/s, in_qsize 7, out_qsize 0\n",
      "2017-11-24 21:13:52,995 : INFO : PROGRESS: at 99.80% examples, 100766 words/s, in_qsize 8, out_qsize 0\n",
      "2017-11-24 21:13:54,026 : INFO : PROGRESS: at 99.91% examples, 100682 words/s, in_qsize 6, out_qsize 0\n",
      "2017-11-24 21:13:54,367 : INFO : worker thread finished; awaiting finish of 3 more threads\n",
      "2017-11-24 21:13:54,467 : INFO : worker thread finished; awaiting finish of 2 more threads\n",
      "2017-11-24 21:13:54,511 : INFO : worker thread finished; awaiting finish of 1 more threads\n",
      "2017-11-24 21:13:54,537 : INFO : worker thread finished; awaiting finish of 0 more threads\n",
      "2017-11-24 21:13:54,538 : INFO : training on 69008685 raw words (52441207 effective words) took 520.9s, 100670 effective words/s\n"
     ]
    },
    {
     "data": {
      "text/plain": [
       "52441207"
      ]
     },
     "execution_count": 21,
     "metadata": {},
     "output_type": "execute_result"
    }
   ],
   "source": [
    "w2vec.train(sentences, total_examples=w2vec.corpus_count, epochs=w2vec.iter)"
   ]
  },
  {
   "cell_type": "markdown",
   "metadata": {},
   "source": [
    "**Save to file, can be useful later**"
   ]
  },
  {
   "cell_type": "code",
   "execution_count": 22,
   "metadata": {},
   "outputs": [],
   "source": [
    "if not os.path.exists(\"trained\"):\n",
    "    os.makedirs(\"trained\")"
   ]
  },
  {
   "cell_type": "code",
   "execution_count": 23,
   "metadata": {},
   "outputs": [
    {
     "name": "stderr",
     "output_type": "stream",
     "text": [
      "2017-11-24 21:14:18,001 : INFO : saving Word2Vec object under trained/model.w2v, separately None\n",
      "2017-11-24 21:14:18,003 : INFO : storing np array 'syn0' to trained/model.w2v.wv.syn0.npy\n",
      "2017-11-24 21:14:18,189 : INFO : not storing attribute syn0norm\n",
      "2017-11-24 21:14:18,191 : INFO : storing np array 'syn1neg' to trained/model.w2v.syn1neg.npy\n",
      "2017-11-24 21:14:18,567 : INFO : not storing attribute cum_table\n",
      "2017-11-24 21:14:18,907 : INFO : saved trained/model.w2v\n"
     ]
    }
   ],
   "source": [
    "w2vec.save(os.path.join(\"trained\", \"model.w2v\"))"
   ]
  },
  {
   "cell_type": "markdown",
   "metadata": {},
   "source": [
    "## Explore the trained model."
   ]
  },
  {
   "cell_type": "code",
   "execution_count": 20,
   "metadata": {},
   "outputs": [
    {
     "name": "stderr",
     "output_type": "stream",
     "text": [
      "2017-11-24 21:59:31,476 : INFO : loading Word2Vec object from trained/model.w2v\n",
      "2017-11-24 21:59:32,143 : INFO : loading wv recursively from trained/model.w2v.wv.* with mmap=None\n",
      "2017-11-24 21:59:32,143 : INFO : loading syn0 from trained/model.w2v.wv.syn0.npy with mmap=None\n",
      "2017-11-24 21:59:32,494 : INFO : setting ignored attribute syn0norm to None\n",
      "2017-11-24 21:59:32,504 : INFO : loading syn1neg from trained/model.w2v.syn1neg.npy with mmap=None\n",
      "2017-11-24 21:59:32,825 : INFO : setting ignored attribute cum_table to None\n",
      "2017-11-24 21:59:32,829 : INFO : loaded trained/model.w2v\n"
     ]
    }
   ],
   "source": [
    "w2vec = w2v.Word2Vec.load(os.path.join(\"trained\", \"model.w2v\"))"
   ]
  },
  {
   "cell_type": "markdown",
   "metadata": {},
   "source": [
    "### Compress the word vectors into 2D space and plot them"
   ]
  },
  {
   "cell_type": "code",
   "execution_count": 21,
   "metadata": {},
   "outputs": [],
   "source": [
    "tsne = sklearn.manifold.TSNE(n_components=2, random_state=0)"
   ]
  },
  {
   "cell_type": "code",
   "execution_count": 22,
   "metadata": {},
   "outputs": [
    {
     "data": {
      "text/plain": [
       "(93734, 300)"
      ]
     },
     "execution_count": 22,
     "metadata": {},
     "output_type": "execute_result"
    }
   ],
   "source": [
    "w2vec.wv.syn0.shape"
   ]
  },
  {
   "cell_type": "code",
   "execution_count": 31,
   "metadata": {},
   "outputs": [
    {
     "data": {
      "text/plain": [
       "(93734, 300)"
      ]
     },
     "execution_count": 31,
     "metadata": {},
     "output_type": "execute_result"
    }
   ],
   "source": [
    "# all_word_vectors_matrix = w2vec.wv.syn0\n",
    "all_word_vectors_matrix = w2vec.wv.syn0[:]\n",
    "all_word_vectors_matrix.shape"
   ]
  },
  {
   "cell_type": "code",
   "execution_count": 29,
   "metadata": {},
   "outputs": [],
   "source": [
    "all_word_vectors_matrix_2d = tsne.fit_transform(all_word_vectors_matrix)"
   ]
  },
  {
   "cell_type": "code",
   "execution_count": 30,
   "metadata": {},
   "outputs": [
    {
     "ename": "IndexError",
     "evalue": "index 10863 is out of bounds for axis 0 with size 10000",
     "output_type": "error",
     "traceback": [
      "\u001b[0;31m---------------------------------------------------------------------------\u001b[0m",
      "\u001b[0;31mIndexError\u001b[0m                                Traceback (most recent call last)",
      "\u001b[0;32m<ipython-input-30-633e6ee0d95f>\u001b[0m in \u001b[0;36m<module>\u001b[0;34m()\u001b[0m\n\u001b[1;32m      4\u001b[0m         for word, coords in [\n\u001b[1;32m      5\u001b[0m             \u001b[0;34m(\u001b[0m\u001b[0mword\u001b[0m\u001b[0;34m,\u001b[0m \u001b[0mall_word_vectors_matrix_2d\u001b[0m\u001b[0;34m[\u001b[0m\u001b[0mw2vec\u001b[0m\u001b[0;34m.\u001b[0m\u001b[0mwv\u001b[0m\u001b[0;34m.\u001b[0m\u001b[0mvocab\u001b[0m\u001b[0;34m[\u001b[0m\u001b[0mword\u001b[0m\u001b[0;34m]\u001b[0m\u001b[0;34m.\u001b[0m\u001b[0mindex\u001b[0m\u001b[0;34m]\u001b[0m\u001b[0;34m)\u001b[0m\u001b[0;34m\u001b[0m\u001b[0m\n\u001b[0;32m----> 6\u001b[0;31m             \u001b[0;32mfor\u001b[0m \u001b[0mword\u001b[0m \u001b[0;32min\u001b[0m \u001b[0mw2vec\u001b[0m\u001b[0;34m.\u001b[0m\u001b[0mwv\u001b[0m\u001b[0;34m.\u001b[0m\u001b[0mvocab\u001b[0m\u001b[0;34m\u001b[0m\u001b[0m\n\u001b[0m\u001b[1;32m      7\u001b[0m         ]\n\u001b[1;32m      8\u001b[0m     ],\n",
      "\u001b[0;32m<ipython-input-30-633e6ee0d95f>\u001b[0m in \u001b[0;36m<listcomp>\u001b[0;34m(.0)\u001b[0m\n\u001b[1;32m      4\u001b[0m         for word, coords in [\n\u001b[1;32m      5\u001b[0m             \u001b[0;34m(\u001b[0m\u001b[0mword\u001b[0m\u001b[0;34m,\u001b[0m \u001b[0mall_word_vectors_matrix_2d\u001b[0m\u001b[0;34m[\u001b[0m\u001b[0mw2vec\u001b[0m\u001b[0;34m.\u001b[0m\u001b[0mwv\u001b[0m\u001b[0;34m.\u001b[0m\u001b[0mvocab\u001b[0m\u001b[0;34m[\u001b[0m\u001b[0mword\u001b[0m\u001b[0;34m]\u001b[0m\u001b[0;34m.\u001b[0m\u001b[0mindex\u001b[0m\u001b[0;34m]\u001b[0m\u001b[0;34m)\u001b[0m\u001b[0;34m\u001b[0m\u001b[0m\n\u001b[0;32m----> 6\u001b[0;31m             \u001b[0;32mfor\u001b[0m \u001b[0mword\u001b[0m \u001b[0;32min\u001b[0m \u001b[0mw2vec\u001b[0m\u001b[0;34m.\u001b[0m\u001b[0mwv\u001b[0m\u001b[0;34m.\u001b[0m\u001b[0mvocab\u001b[0m\u001b[0;34m\u001b[0m\u001b[0m\n\u001b[0m\u001b[1;32m      7\u001b[0m         ]\n\u001b[1;32m      8\u001b[0m     ],\n",
      "\u001b[0;31mIndexError\u001b[0m: index 10863 is out of bounds for axis 0 with size 10000"
     ]
    }
   ],
   "source": [
    "points = pd.DataFrame(\n",
    "    [\n",
    "        (word, coords[0], coords[1])\n",
    "        for word, coords in [\n",
    "            (word, all_word_vectors_matrix_2d[w2vec.wv.vocab[word].index])\n",
    "            for word in w2vec.wv.vocab\n",
    "        ]\n",
    "    ],\n",
    "    columns=[\"word\", \"x\", \"y\"]\n",
    ")"
   ]
  },
  {
   "cell_type": "code",
   "execution_count": null,
   "metadata": {},
   "outputs": [],
   "source": [
    "points.head(10)"
   ]
  },
  {
   "cell_type": "code",
   "execution_count": null,
   "metadata": {},
   "outputs": [],
   "source": [
    "sns.set_context(\"poster\")"
   ]
  },
  {
   "cell_type": "code",
   "execution_count": null,
   "metadata": {},
   "outputs": [],
   "source": [
    "points.plot.scatter(\"x\", \"y\", s=10, figsize=(20, 12))"
   ]
  },
  {
   "cell_type": "code",
   "execution_count": null,
   "metadata": {},
   "outputs": [],
   "source": [
    "def plot_region(x_bounds, y_bounds):\n",
    "    slice = points[\n",
    "        (x_bounds[0] <= points.x) &\n",
    "        (points.x <= x_bounds[1]) & \n",
    "        (y_bounds[0] <= points.y) &\n",
    "        (points.y <= y_bounds[1])\n",
    "    ]\n",
    "    \n",
    "    ax = slice.plot.scatter(\"x\", \"y\", s=35, figsize=(10, 8))\n",
    "    for i, point in slice.iterrows():\n",
    "        ax.text(point.x + 0.005, point.y + 0.005, point.word, fontsize=11)"
   ]
  },
  {
   "cell_type": "code",
   "execution_count": null,
   "metadata": {},
   "outputs": [],
   "source": [
    "plot_region(x_bounds=(-20, -10), y_bounds=(-5.3, 5))"
   ]
  },
  {
   "cell_type": "code",
   "execution_count": null,
   "metadata": {},
   "outputs": [],
   "source": [
    "plot_region(x_bounds=(0, 10), y_bounds=(-10, -5))"
   ]
  },
  {
   "cell_type": "markdown",
   "metadata": {},
   "source": [
    "### Explore semantic similarities between lyrics"
   ]
  },
  {
   "cell_type": "markdown",
   "metadata": {},
   "source": [
    "**Words closest to the given word**"
   ]
  },
  {
   "cell_type": "code",
   "execution_count": 52,
   "metadata": {},
   "outputs": [
    {
     "data": {
      "text/plain": [
       "[('gravitational', 0.7476991415023804),\n",
       " ('output', 0.6931130886077881),\n",
       " ('emissions', 0.6856688261032104),\n",
       " ('rotation', 0.6853864789009094),\n",
       " ('tachyon', 0.6827325224876404),\n",
       " ('propulsion', 0.6826534271240234),\n",
       " ('sensors', 0.6817935705184937),\n",
       " ('currents', 0.6785028576850891),\n",
       " ('density', 0.6761773824691772),\n",
       " ('magnetic', 0.6718573570251465),\n",
       " ('altitude', 0.670562744140625),\n",
       " ('temperatures', 0.6692144870758057),\n",
       " ('atmospheric', 0.6684892177581787),\n",
       " ('vertical', 0.6683751940727234),\n",
       " ('velocity', 0.6682177186012268),\n",
       " ('neutron', 0.6674392819404602),\n",
       " ('tau', 0.6673217415809631),\n",
       " ('curve', 0.6666178107261658),\n",
       " ('hyperdrive', 0.6640599966049194),\n",
       " ('temperature', 0.6623439192771912),\n",
       " ('thrusters', 0.6623009443283081),\n",
       " ('sensor', 0.6591739058494568),\n",
       " ('forcefield', 0.6566702723503113),\n",
       " ('gaseous', 0.6537877917289734),\n",
       " ('Starflight', 0.6532146334648132),\n",
       " ('instantaneous', 0.6518352627754211),\n",
       " ('molecules', 0.6509585380554199),\n",
       " ('implosion', 0.6505521535873413),\n",
       " ('acceleration', 0.649412214756012),\n",
       " ('slipstream', 0.6491191983222961)]"
      ]
     },
     "execution_count": 52,
     "metadata": {},
     "output_type": "execute_result"
    }
   ],
   "source": [
    "w2vec.most_similar(\"gravity\", topn=30)"
   ]
  },
  {
   "cell_type": "code",
   "execution_count": 42,
   "metadata": {},
   "outputs": [
    {
     "data": {
      "text/plain": [
       "[('ablaze', 0.5772343277931213),\n",
       " ('alight', 0.5676148533821106),\n",
       " ('afire', 0.5596336126327515),\n",
       " ('blaze', 0.5545936226844788),\n",
       " ('burning', 0.554497480392456),\n",
       " ('extinguisher', 0.546075165271759),\n",
       " ('aflame', 0.5338687300682068),\n",
       " ('douse', 0.5319390296936035),\n",
       " ('flames', 0.5293787717819214),\n",
       " ('kerosene', 0.5252149105072021),\n",
       " ('hydrant', 0.5163390040397644),\n",
       " ('gasoline', 0.5148575901985168),\n",
       " ('sprinklers', 0.5141894221305847),\n",
       " ('propane', 0.5121015906333923),\n",
       " ('dousing', 0.511151909828186),\n",
       " ('flaming', 0.5102989077568054),\n",
       " ('fires', 0.5081019997596741),\n",
       " ('extinguishes', 0.5049477815628052),\n",
       " ('extinguishers', 0.5037778615951538),\n",
       " ('latrine', 0.49910250306129456)]"
      ]
     },
     "execution_count": 42,
     "metadata": {},
     "output_type": "execute_result"
    }
   ],
   "source": [
    "w2vec.most_similar(\"fire\", topn=20)"
   ]
  },
  {
   "cell_type": "code",
   "execution_count": 54,
   "metadata": {},
   "outputs": [
    {
     "data": {
      "text/plain": [
       "[('madly', 0.6482644081115723),\n",
       " ('reciprocates', 0.596576988697052),\n",
       " ('Meenu', 0.5774663090705872),\n",
       " ('passionately', 0.5691573023796082),\n",
       " ('Esha', 0.5617328882217407),\n",
       " ('Naina', 0.5616644024848938),\n",
       " ('affection', 0.5614078044891357),\n",
       " ('Fermina', 0.5602362751960754),\n",
       " ('reciprocated', 0.5598307251930237),\n",
       " ('feelings', 0.5577186942100525),\n",
       " ('chaste', 0.5553461313247681),\n",
       " ('unrequited', 0.5523269772529602),\n",
       " ('loves', 0.551179826259613),\n",
       " ('Yoli', 0.5505610704421997),\n",
       " ('Koppikar', 0.54374098777771),\n",
       " ('Ottilie', 0.5418331623077393),\n",
       " ('pines', 0.5404753088951111),\n",
       " ('undying', 0.540323793888092),\n",
       " ('Ladislaw', 0.5397524237632751),\n",
       " ('tempestuous', 0.5389116406440735)]"
      ]
     },
     "execution_count": 54,
     "metadata": {},
     "output_type": "execute_result"
    }
   ],
   "source": [
    "w2vec.most_similar(\"love\", topn=20)"
   ]
  },
  {
   "cell_type": "code",
   "execution_count": 44,
   "metadata": {},
   "outputs": [
    {
     "data": {
      "text/plain": [
       "[('emperor', 0.6805914044380188),\n",
       " ('King', 0.6793444156646729),\n",
       " ('sultan', 0.6113089919090271),\n",
       " ('usurper', 0.6079466938972473),\n",
       " ('prince', 0.6072194576263428),\n",
       " ('ruler', 0.6054526567459106),\n",
       " ('Navarre', 0.5988456010818481),\n",
       " ('kingdom', 0.5988266468048096),\n",
       " ('queen', 0.5977203249931335),\n",
       " ('throne', 0.5961341261863708),\n",
       " ('Uther', 0.5888413786888123),\n",
       " ('Ptolemy', 0.5884987115859985),\n",
       " ('regent', 0.5757324695587158),\n",
       " ('Sultan', 0.5756001472473145),\n",
       " ('Dumnonia', 0.5751804709434509),\n",
       " ('kings', 0.5746773481369019),\n",
       " ('Mordred', 0.5722867250442505),\n",
       " ('Gwent', 0.5695423483848572),\n",
       " ('princess', 0.5648117065429688),\n",
       " ('duke', 0.5586606860160828)]"
      ]
     },
     "execution_count": 44,
     "metadata": {},
     "output_type": "execute_result"
    }
   ],
   "source": [
    "w2vec.most_similar(\"king\", topn=20)"
   ]
  },
  {
   "cell_type": "code",
   "execution_count": 55,
   "metadata": {},
   "outputs": [
    {
     "data": {
      "text/plain": [
       "[('lacrosse', 0.7396116256713867),\n",
       " ('rugby', 0.7346217036247253),\n",
       " ('soccer', 0.6983463168144226),\n",
       " ('volleyball', 0.689306378364563),\n",
       " ('cricket', 0.6890518069267273),\n",
       " ('Mathabane', 0.6724033951759338),\n",
       " ('cheerleading', 0.6712303161621094),\n",
       " ('dodgeball', 0.6699591279029846),\n",
       " ('mahjong', 0.6691465377807617),\n",
       " ('archery', 0.6633840799331665),\n",
       " ('softball', 0.6560439467430115),\n",
       " ('caddy', 0.6535724997520447),\n",
       " ('batting', 0.6528732180595398),\n",
       " ('snooker', 0.6526117324829102),\n",
       " ('basketball', 0.6513596773147583),\n",
       " ('billiards', 0.6489346027374268),\n",
       " ('kendo', 0.6488310694694519),\n",
       " ('saxophone', 0.6479246616363525),\n",
       " ('umpire', 0.6477859616279602),\n",
       " ('football', 0.6455608606338501)]"
      ]
     },
     "execution_count": 55,
     "metadata": {},
     "output_type": "execute_result"
    }
   ],
   "source": [
    "w2vec.most_similar(\"dune\", topn=20)"
   ]
  },
  {
   "cell_type": "markdown",
   "metadata": {},
   "source": [
    "**Linear relationships between word pairs**"
   ]
  },
  {
   "cell_type": "code",
   "execution_count": 31,
   "metadata": {},
   "outputs": [],
   "source": [
    "def nearest_similarity_cosmul(start1, end1, end2):\n",
    "    similarities = w2vec.most_similar_cosmul(\n",
    "        positive=[end2, start1],\n",
    "        negative=[end1]\n",
    "    )\n",
    "    start2 = similarities[0][0]\n",
    "    print(\"{start1} is related to {end1}, as {start2} is related to {end2}\".format(**locals()))\n",
    "    return start2"
   ]
  },
  {
   "cell_type": "code",
   "execution_count": 56,
   "metadata": {},
   "outputs": [
    {
     "name": "stdout",
     "output_type": "stream",
     "text": [
      "gravity is related to output, as swamps is related to city\n",
      "fire is related to ablaze, as girl is related to woman\n",
      "love is related to madly, as marrow is related to heart\n",
      "king is related to emperor, as wooded is related to swamps\n",
      "dune is related to veered, as Pakistan is related to revolution\n",
      "gravity is related to acceleration, as hockey is related to tennis\n"
     ]
    },
    {
     "data": {
      "text/plain": [
       "'hockey'"
      ]
     },
     "execution_count": 56,
     "metadata": {},
     "output_type": "execute_result"
    }
   ],
   "source": [
    "nearest_similarity_cosmul(\"gravity\", \"output\", \"city\")\n",
    "nearest_similarity_cosmul(\"fire\", \"ablaze\", \"woman\")\n",
    "nearest_similarity_cosmul(\"love\", \"madly\", \"heart\")\n",
    "nearest_similarity_cosmul(\"king\", \"emperor\", \"swamps\")\n",
    "nearest_similarity_cosmul(\"dune\", \"veered\", \"revolution\")\n",
    "nearest_similarity_cosmul(\"gravity\", \"acceleration\", \"tennis\")"
   ]
  }
 ],
 "metadata": {
  "kernelspec": {
   "display_name": "Python 3",
   "language": "python",
   "name": "python3"
  },
  "language_info": {
   "codemirror_mode": {
    "name": "ipython",
    "version": 3
   },
   "file_extension": ".py",
   "mimetype": "text/x-python",
   "name": "python",
   "nbconvert_exporter": "python",
   "pygments_lexer": "ipython3",
   "version": "3.6.2"
  }
 },
 "nbformat": 4,
 "nbformat_minor": 1
}
